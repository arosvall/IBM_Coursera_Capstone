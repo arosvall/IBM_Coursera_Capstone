{
 "cells": [
  {
   "cell_type": "markdown",
   "metadata": {},
   "source": [
    "# DATA201 - Project 2\n",
    "\n",
    "### Ashlee Rosvall\n",
    "##### ID: 300367094\n",
    "\n",
    "Please use this page http://apps.ecs.vuw.ac.nz/submit/DATA201 for submission and submit only this single Jupyter notebook with your code added into it at the appropriate places.\n",
    "\n",
    "The due date is **Friday 7th June, before midnight**.\n",
    "\n",
    "The dataset for this assignment are files **loan_train.csv** and **loan_test.csv** which are provided with this notebook.\n",
    "\n",
    "Please choose menu items *Kernel => Restart & Run All* then *File => Save and Checkpoint* in Jupyter before submission."
   ]
  },
  {
   "cell_type": "markdown",
   "metadata": {},
   "source": [
    "## Problem Statement\n",
    "\n",
    "A company deals in all home loans. They have presence across all urban, semi urban and rural areas.\n",
    "Customers first apply for home loan after that company validates the customer eligibility for loan.\n",
    "\n",
    "The company wants to automate the loan eligibility process (in real-time) based on customer detail provided while filling online application form. These details are Gender, Marital Status, Education, Number of Dependents, Income, Loan Amount, Credit History and others. To automate this process, they have given a problem to identify the customers segments, those are eligible for loan amount so that they can specifically target these customers."
   ]
  },
  {
   "cell_type": "markdown",
   "metadata": {},
   "source": [
    "## Data\n",
    "\n",
    "| Variable\t            | Description                                     |\n",
    "|-----------------------|-------------------------------------------------|\n",
    "|``Loan_ID``            |Unique Loan ID                                   |\n",
    "|``Gender``             |Male / Female                                    |\n",
    "|``Married``            |Applicant married (Y/N)                          |\n",
    "|``Dependents``         |Number of dependents                             |\n",
    "|``Education``          |Applicant Education (Graduate / Under Graduate)  |\n",
    "|``Self_Employed``      |Self employed (Y/N)                              |\n",
    "|``ApplicantIncome``    |Applicant income                                 |\n",
    "|``CoapplicantIncome``  |Coapplicant income                               |\n",
    "|``LoanAmount``         |Loan amount in thousands                         |\n",
    "|``Loan_Amount_Term``   |Term of loan in months                           |\n",
    "|``Credit_History``     |Credit history meets guidelines                  |\n",
    "|``Property_Area``      |Urban / Semi Urban / Rural                       |\n",
    "|``Loan_Status``        |Loan approved (Y/N)                              |\n",
    "\n",
    "Use ``loan_train.csv`` to build a model to predict if a loan application is approved (``Loan_Status`` is the label), and test the model using ``loan_test.csv``. "
   ]
  },
  {
   "cell_type": "markdown",
   "metadata": {},
   "source": [
    "## Model Evaluation\n",
    "\n",
    "Use AUC (area under the receiver operating characteristic curve) as the evaluation metric."
   ]
  },
  {
   "cell_type": "markdown",
   "metadata": {},
   "source": [
    "## Guidelines\n",
    "\n",
    "- This is an End-to-End machine learning project. Please review lecture notes in weeks 6 and 7 carefully before starting the project.\n",
    "- This is also an *open* project. There is no restriction in using any algorithms or packages, even those which are not discussed in the lectures.\n",
    "- The followings are expected in this project (**maximum possible points: 15++**):\n",
    "    + Exploratory analysis and visualisation [**2 points**]\n",
    "    + Data preparation (outliers and missing values treatment, feature selection, feature engineering, feature scaling, etc. - not all of those steps are required) [**3 points**]\n",
    "    + Model training (train many quick models, measure and compare their performance, analyze important features and types of errors, ... then short-list the top 3 to 5 most promising models, preferring models that make different types of errors) [**4 points**]\n",
    "    + Model tuning (fine-tune the hyper-parameters using cross-validation, try ensemble methods, ... then measure the final model's performance on the test set) [**5 points**]\n",
    "    + Present your solution (present interesting points you noticed along the way (what worked and what did not, your assumptions and your systems limitations), communicate your key findings through beautiful visualizations or easy-to-remember statements, etc.) [**1 point**]\n",
    "- Bonus points (maximum **2 points**): for those who obtain the highest AUC value on the test set and for those who automate the steps above as much as possible."
   ]
  },
  {
   "cell_type": "code",
   "execution_count": 1,
   "metadata": {},
   "outputs": [],
   "source": [
    "import numpy as np\n",
    "import pandas as pd\n",
    "import random\n",
    "import datetime\n",
    "import matplotlib.pyplot as plt\n"
   ]
  },
  {
   "cell_type": "code",
   "execution_count": 2,
   "metadata": {},
   "outputs": [],
   "source": [
    "from sklearn.preprocessing import StandardScaler\n",
    "from sklearn.decomposition import PCA\n",
    "\n",
    "from sklearn.neighbors import KNeighborsClassifier\n",
    "from sklearn.svm import SVC\n",
    "from sklearn.linear_model import LogisticRegression\n",
    "from sklearn.tree import DecisionTreeClassifier\n",
    "from sklearn.naive_bayes import GaussianNB\n",
    "from sklearn.neural_network import MLPClassifier\n",
    "from sklearn.linear_model import RidgeClassifier\n",
    "from sklearn.svm import LinearSVC\n",
    "from sklearn.ensemble import AdaBoostClassifier\n",
    "\n",
    "\n",
    "from sklearn.pipeline import Pipeline\n",
    "from sklearn.model_selection import GridSearchCV\n",
    "\n",
    "from sklearn.metrics import classification_report\n",
    "from sklearn.metrics import accuracy_score\n",
    "from sklearn.metrics import roc_auc_score\n",
    "from sklearn.metrics import confusion_matrix\n",
    "from sklearn.ensemble import VotingClassifier\n",
    "\n",
    "from warnings import filterwarnings\n",
    "filterwarnings('ignore')\n"
   ]
  },
  {
   "cell_type": "markdown",
   "metadata": {},
   "source": [
    "### *Load in the datasets*"
   ]
  },
  {
   "cell_type": "code",
   "execution_count": 3,
   "metadata": {},
   "outputs": [
    {
     "data": {
      "text/html": [
       "<div>\n",
       "<style scoped>\n",
       "    .dataframe tbody tr th:only-of-type {\n",
       "        vertical-align: middle;\n",
       "    }\n",
       "\n",
       "    .dataframe tbody tr th {\n",
       "        vertical-align: top;\n",
       "    }\n",
       "\n",
       "    .dataframe thead th {\n",
       "        text-align: right;\n",
       "    }\n",
       "</style>\n",
       "<table border=\"1\" class=\"dataframe\">\n",
       "  <thead>\n",
       "    <tr style=\"text-align: right;\">\n",
       "      <th></th>\n",
       "      <th>Loan_ID</th>\n",
       "      <th>Gender</th>\n",
       "      <th>Married</th>\n",
       "      <th>Dependents</th>\n",
       "      <th>Education</th>\n",
       "      <th>Self_Employed</th>\n",
       "      <th>ApplicantIncome</th>\n",
       "      <th>CoapplicantIncome</th>\n",
       "      <th>LoanAmount</th>\n",
       "      <th>Loan_Amount_Term</th>\n",
       "      <th>Credit_History</th>\n",
       "      <th>Property_Area</th>\n",
       "      <th>Loan_Status</th>\n",
       "    </tr>\n",
       "  </thead>\n",
       "  <tbody>\n",
       "    <tr>\n",
       "      <th>0</th>\n",
       "      <td>LP001535</td>\n",
       "      <td>Male</td>\n",
       "      <td>No</td>\n",
       "      <td>0</td>\n",
       "      <td>Graduate</td>\n",
       "      <td>No</td>\n",
       "      <td>3254</td>\n",
       "      <td>0.0</td>\n",
       "      <td>50.0</td>\n",
       "      <td>360.0</td>\n",
       "      <td>1.0</td>\n",
       "      <td>Urban</td>\n",
       "      <td>Y</td>\n",
       "    </tr>\n",
       "    <tr>\n",
       "      <th>1</th>\n",
       "      <td>LP001792</td>\n",
       "      <td>Male</td>\n",
       "      <td>Yes</td>\n",
       "      <td>1</td>\n",
       "      <td>Graduate</td>\n",
       "      <td>No</td>\n",
       "      <td>3315</td>\n",
       "      <td>0.0</td>\n",
       "      <td>96.0</td>\n",
       "      <td>360.0</td>\n",
       "      <td>1.0</td>\n",
       "      <td>Semiurban</td>\n",
       "      <td>Y</td>\n",
       "    </tr>\n",
       "    <tr>\n",
       "      <th>2</th>\n",
       "      <td>LP002443</td>\n",
       "      <td>Male</td>\n",
       "      <td>Yes</td>\n",
       "      <td>2</td>\n",
       "      <td>Graduate</td>\n",
       "      <td>No</td>\n",
       "      <td>3340</td>\n",
       "      <td>1710.0</td>\n",
       "      <td>150.0</td>\n",
       "      <td>360.0</td>\n",
       "      <td>0.0</td>\n",
       "      <td>Rural</td>\n",
       "      <td>N</td>\n",
       "    </tr>\n",
       "    <tr>\n",
       "      <th>3</th>\n",
       "      <td>LP002517</td>\n",
       "      <td>Male</td>\n",
       "      <td>Yes</td>\n",
       "      <td>1</td>\n",
       "      <td>Not Graduate</td>\n",
       "      <td>No</td>\n",
       "      <td>2653</td>\n",
       "      <td>1500.0</td>\n",
       "      <td>113.0</td>\n",
       "      <td>180.0</td>\n",
       "      <td>0.0</td>\n",
       "      <td>Rural</td>\n",
       "      <td>N</td>\n",
       "    </tr>\n",
       "    <tr>\n",
       "      <th>4</th>\n",
       "      <td>LP001894</td>\n",
       "      <td>Male</td>\n",
       "      <td>Yes</td>\n",
       "      <td>0</td>\n",
       "      <td>Graduate</td>\n",
       "      <td>No</td>\n",
       "      <td>2620</td>\n",
       "      <td>2223.0</td>\n",
       "      <td>150.0</td>\n",
       "      <td>360.0</td>\n",
       "      <td>1.0</td>\n",
       "      <td>Semiurban</td>\n",
       "      <td>Y</td>\n",
       "    </tr>\n",
       "  </tbody>\n",
       "</table>\n",
       "</div>"
      ],
      "text/plain": [
       "    Loan_ID Gender Married Dependents     Education Self_Employed  \\\n",
       "0  LP001535   Male      No          0      Graduate            No   \n",
       "1  LP001792   Male     Yes          1      Graduate            No   \n",
       "2  LP002443   Male     Yes          2      Graduate            No   \n",
       "3  LP002517   Male     Yes          1  Not Graduate            No   \n",
       "4  LP001894   Male     Yes          0      Graduate            No   \n",
       "\n",
       "   ApplicantIncome  CoapplicantIncome  LoanAmount  Loan_Amount_Term  \\\n",
       "0             3254                0.0        50.0             360.0   \n",
       "1             3315                0.0        96.0             360.0   \n",
       "2             3340             1710.0       150.0             360.0   \n",
       "3             2653             1500.0       113.0             180.0   \n",
       "4             2620             2223.0       150.0             360.0   \n",
       "\n",
       "   Credit_History Property_Area Loan_Status  \n",
       "0             1.0         Urban           Y  \n",
       "1             1.0     Semiurban           Y  \n",
       "2             0.0         Rural           N  \n",
       "3             0.0         Rural           N  \n",
       "4             1.0     Semiurban           Y  "
      ]
     },
     "execution_count": 3,
     "metadata": {},
     "output_type": "execute_result"
    }
   ],
   "source": [
    "train_df = pd.read_csv(\"loan_train.csv\")\n",
    "train_df.head()"
   ]
  },
  {
   "cell_type": "code",
   "execution_count": 4,
   "metadata": {},
   "outputs": [
    {
     "data": {
      "text/html": [
       "<div>\n",
       "<style scoped>\n",
       "    .dataframe tbody tr th:only-of-type {\n",
       "        vertical-align: middle;\n",
       "    }\n",
       "\n",
       "    .dataframe tbody tr th {\n",
       "        vertical-align: top;\n",
       "    }\n",
       "\n",
       "    .dataframe thead th {\n",
       "        text-align: right;\n",
       "    }\n",
       "</style>\n",
       "<table border=\"1\" class=\"dataframe\">\n",
       "  <thead>\n",
       "    <tr style=\"text-align: right;\">\n",
       "      <th></th>\n",
       "      <th>Loan_ID</th>\n",
       "      <th>Gender</th>\n",
       "      <th>Married</th>\n",
       "      <th>Dependents</th>\n",
       "      <th>Education</th>\n",
       "      <th>Self_Employed</th>\n",
       "      <th>ApplicantIncome</th>\n",
       "      <th>CoapplicantIncome</th>\n",
       "      <th>LoanAmount</th>\n",
       "      <th>Loan_Amount_Term</th>\n",
       "      <th>Credit_History</th>\n",
       "      <th>Property_Area</th>\n",
       "      <th>Loan_Status</th>\n",
       "    </tr>\n",
       "  </thead>\n",
       "  <tbody>\n",
       "    <tr>\n",
       "      <th>0</th>\n",
       "      <td>LP001528</td>\n",
       "      <td>Male</td>\n",
       "      <td>No</td>\n",
       "      <td>0</td>\n",
       "      <td>Graduate</td>\n",
       "      <td>No</td>\n",
       "      <td>6277</td>\n",
       "      <td>0.0</td>\n",
       "      <td>118.0</td>\n",
       "      <td>360.0</td>\n",
       "      <td>0.0</td>\n",
       "      <td>Rural</td>\n",
       "      <td>N</td>\n",
       "    </tr>\n",
       "    <tr>\n",
       "      <th>1</th>\n",
       "      <td>LP002804</td>\n",
       "      <td>Female</td>\n",
       "      <td>Yes</td>\n",
       "      <td>0</td>\n",
       "      <td>Graduate</td>\n",
       "      <td>No</td>\n",
       "      <td>4180</td>\n",
       "      <td>2306.0</td>\n",
       "      <td>182.0</td>\n",
       "      <td>360.0</td>\n",
       "      <td>1.0</td>\n",
       "      <td>Semiurban</td>\n",
       "      <td>Y</td>\n",
       "    </tr>\n",
       "    <tr>\n",
       "      <th>2</th>\n",
       "      <td>LP002945</td>\n",
       "      <td>Male</td>\n",
       "      <td>Yes</td>\n",
       "      <td>0</td>\n",
       "      <td>Graduate</td>\n",
       "      <td>Yes</td>\n",
       "      <td>9963</td>\n",
       "      <td>0.0</td>\n",
       "      <td>180.0</td>\n",
       "      <td>360.0</td>\n",
       "      <td>1.0</td>\n",
       "      <td>Rural</td>\n",
       "      <td>Y</td>\n",
       "    </tr>\n",
       "    <tr>\n",
       "      <th>3</th>\n",
       "      <td>LP001784</td>\n",
       "      <td>Male</td>\n",
       "      <td>Yes</td>\n",
       "      <td>1</td>\n",
       "      <td>Graduate</td>\n",
       "      <td>No</td>\n",
       "      <td>5500</td>\n",
       "      <td>1260.0</td>\n",
       "      <td>170.0</td>\n",
       "      <td>360.0</td>\n",
       "      <td>1.0</td>\n",
       "      <td>Rural</td>\n",
       "      <td>Y</td>\n",
       "    </tr>\n",
       "    <tr>\n",
       "      <th>4</th>\n",
       "      <td>LP001514</td>\n",
       "      <td>Female</td>\n",
       "      <td>Yes</td>\n",
       "      <td>0</td>\n",
       "      <td>Graduate</td>\n",
       "      <td>No</td>\n",
       "      <td>2330</td>\n",
       "      <td>4486.0</td>\n",
       "      <td>100.0</td>\n",
       "      <td>360.0</td>\n",
       "      <td>1.0</td>\n",
       "      <td>Semiurban</td>\n",
       "      <td>Y</td>\n",
       "    </tr>\n",
       "  </tbody>\n",
       "</table>\n",
       "</div>"
      ],
      "text/plain": [
       "    Loan_ID  Gender Married Dependents Education Self_Employed  \\\n",
       "0  LP001528    Male      No          0  Graduate            No   \n",
       "1  LP002804  Female     Yes          0  Graduate            No   \n",
       "2  LP002945    Male     Yes          0  Graduate           Yes   \n",
       "3  LP001784    Male     Yes          1  Graduate            No   \n",
       "4  LP001514  Female     Yes          0  Graduate            No   \n",
       "\n",
       "   ApplicantIncome  CoapplicantIncome  LoanAmount  Loan_Amount_Term  \\\n",
       "0             6277                0.0       118.0             360.0   \n",
       "1             4180             2306.0       182.0             360.0   \n",
       "2             9963                0.0       180.0             360.0   \n",
       "3             5500             1260.0       170.0             360.0   \n",
       "4             2330             4486.0       100.0             360.0   \n",
       "\n",
       "   Credit_History Property_Area Loan_Status  \n",
       "0             0.0         Rural           N  \n",
       "1             1.0     Semiurban           Y  \n",
       "2             1.0         Rural           Y  \n",
       "3             1.0         Rural           Y  \n",
       "4             1.0     Semiurban           Y  "
      ]
     },
     "execution_count": 4,
     "metadata": {},
     "output_type": "execute_result"
    }
   ],
   "source": [
    "test_df = pd.read_csv(\"loan_test.csv\")\n",
    "\n",
    "test_df.head()"
   ]
  },
  {
   "cell_type": "code",
   "execution_count": 5,
   "metadata": {},
   "outputs": [],
   "source": [
    "#Remove any personal potential identifiers from the dataset\n",
    "train_df.drop([\"Loan_ID\"], axis=1, inplace=True)\n",
    "test_df.drop([\"Loan_ID\"], axis=1, inplace=True)"
   ]
  },
  {
   "cell_type": "markdown",
   "metadata": {},
   "source": [
    "## Data Exploration and Analysis"
   ]
  },
  {
   "cell_type": "markdown",
   "metadata": {},
   "source": [
    "Check for any missing values"
   ]
  },
  {
   "cell_type": "code",
   "execution_count": 6,
   "metadata": {},
   "outputs": [
    {
     "data": {
      "text/plain": [
       "True"
      ]
     },
     "execution_count": 6,
     "metadata": {},
     "output_type": "execute_result"
    }
   ],
   "source": [
    "train_df.isnull().values.any()"
   ]
  },
  {
   "cell_type": "markdown",
   "metadata": {},
   "source": [
    "List the numerical and categorical attributes of the dataset"
   ]
  },
  {
   "cell_type": "code",
   "execution_count": 7,
   "metadata": {},
   "outputs": [
    {
     "data": {
      "text/plain": [
       "['ApplicantIncome',\n",
       " 'CoapplicantIncome',\n",
       " 'LoanAmount',\n",
       " 'Loan_Amount_Term',\n",
       " 'Credit_History']"
      ]
     },
     "execution_count": 7,
     "metadata": {},
     "output_type": "execute_result"
    }
   ],
   "source": [
    "numerical_attributes = list(train_df.select_dtypes(include=[np.number]))\n",
    "numerical_attributes"
   ]
  },
  {
   "cell_type": "code",
   "execution_count": 8,
   "metadata": {},
   "outputs": [
    {
     "data": {
      "text/plain": [
       "['Gender',\n",
       " 'Married',\n",
       " 'Dependents',\n",
       " 'Education',\n",
       " 'Self_Employed',\n",
       " 'Property_Area']"
      ]
     },
     "execution_count": 8,
     "metadata": {},
     "output_type": "execute_result"
    }
   ],
   "source": [
    "categorical_attributes = list(train_df.select_dtypes(include=['object']))\n",
    "#Drop the class label for analysis purposes\n",
    "categorical_attributes = categorical_attributes[:-1]\n",
    "categorical_attributes"
   ]
  },
  {
   "cell_type": "markdown",
   "metadata": {},
   "source": [
    "Check the distribution of the two classes"
   ]
  },
  {
   "cell_type": "code",
   "execution_count": 9,
   "metadata": {},
   "outputs": [
    {
     "data": {
      "text/plain": [
       "Text(0,0.5,'Frequency')"
      ]
     },
     "execution_count": 9,
     "metadata": {},
     "output_type": "execute_result"
    },
    {
     "data": {
      "image/png": "[encoded data removed]",
      "text/plain": [
       "<Figure size 432x288 with 1 Axes>"
      ]
     },
     "metadata": {
      "needs_background": "light"
     },
     "output_type": "display_data"
    }
   ],
   "source": [
    "train_df.Loan_Status.value_counts().plot(kind='bar')\n",
    "plt.title('Loan Status Frequency')\n",
    "plt.xlabel('Loan Status')\n",
    "plt.ylabel('Frequency')"
   ]
  },
  {
   "cell_type": "markdown",
   "metadata": {},
   "source": [
    "##### Analyse the unique values of each feature"
   ]
  },
  {
   "cell_type": "code",
   "execution_count": 10,
   "metadata": {},
   "outputs": [
    {
     "name": "stdout",
     "output_type": "stream",
     "text": [
      "Gender : ['Male' 'Female' nan] \n",
      "\n",
      "Married : ['No' 'Yes' nan] \n",
      "\n",
      "Dependents : ['0' '1' '2' nan '3+'] \n",
      "\n",
      "Education : ['Graduate' 'Not Graduate'] \n",
      "\n",
      "Self_Employed : ['No' 'Yes' nan] \n",
      "\n",
      "ApplicantIncome : [ 3254  3315  3340  2653  2620  1875  3000  2383  7441  4583 37719 13650\n",
      "  2876  3750  2583  6000  4166  7333  4333  4288  4000  4695  2045 10000\n",
      "  3500  5568  6083  5746  3593  3167  2500  2995  3846  3583  5333  5935\n",
      "  4400  1916  1000  4167  4133  2014  3189  3095  5000  3463  5726  8333\n",
      "  3547 14583  5417  4860  5285 14999  5818  6700  3775  2917  2400  3727\n",
      "  5821  3717  4547  3541  6783  2600  2132  1809  2750  3716  5649  1378\n",
      "  7740  2213  5800 17500  2378  5391  3497  2275  2609  3667  4755  1820\n",
      "  7142  6080  3159  4735  9703  5829  6875 20233  3833  3276  3600 16692\n",
      "  3083  6540  1977  8072  4300  1668  6065  1800 10416  5250  5923  7200\n",
      "  4554 81000  4350  3237  3466  3902  2787  6383  3166  6050  7250  4095\n",
      " 63337  2083  5316  2395  3675 13262  2667  2929  1025  2366 39999  2894\n",
      "  3232  6822  4354  3867  9083  2965  2708  7451 16666  4310  6045  5124\n",
      "  1853  9166  4680  2645  5955 16667   416  3017  6950  8334  2297  5042\n",
      "  2454  3588  4616  4750  4707  3015  3748  4301  6033  3400  2882  7901\n",
      "  7100  3200  4408  3244  3406  7578  4625  4931  5166 11000  3992  2492\n",
      "  5468  3510  2947  2507  7583  3601  3103  3417  3597  5849  3708  3086\n",
      "  9504  3410  1828 14683  4600  1299  2031 51763  4945  2720  5819 10750\n",
      "  3596  1958 10833  5708  8000  2221  5488 20166 11417  2577  5500  4950\n",
      "  2764  4887 19730 14866  4384  3522  2333  2000  3572  2666 12876  4683\n",
      "  7667  6096  1907  2526  9328  7787  3033  2253  2483  6283  3993  1442\n",
      "  4188  3652  2679  5815  3326  2178  9833 19484  2550  3073  2718  1600\n",
      "  1993  2309  3283  6782  1782  2833 10047  3927 12841  3208  1926  3427\n",
      " 20833  3316  3010  3246  2873  4006  3948  2479  4923  1811  4865  3399\n",
      "  5266  2661  3180  3087  2755  3859  3676 16250  4895  3100   210  1759\n",
      "  7085  4281  3333  3481  5167 16525  3358  2769  3812  2167  5191  3069\n",
      "  2647  7660  2239  4344  4566  5695  2060  5116  6400  3430 10513  3459\n",
      "  2957  3816  8624  9357  4283  3416  3850  3029  4160  2439 20667  4226\n",
      "  4106  2510  3691 10408  5941  4100  2071 23803  4708  2435  5703  3762\n",
      "  6633  1880  3865 18165  2895  2785  2927  3704  3875  6608  2130  9560\n",
      "  9167  6125  2889  5532  3173  4230  5185  3988  3158  2768 14880  3917\n",
      "  6216  3182  7933  2935  1928 16120  3125  3075  2137  8666  6250  3418\n",
      "  3365  8750  9538  3155  2875  4342 17263  2301  1863  4652  6500  8799\n",
      "  8300  3273  2491  5050  3052  6333  3357  4843  4200  2980  3692  7948\n",
      "  3941  4692  4050  4758  4467  9323  2958  6256 33846 11250  4723  7167\n",
      "  4666  3539  2214  2971  2625  2799  2484  2423] \n",
      "\n",
      "CoapplicantIncome : [    0.   1710.   1500.   2223.   1875.   3416.   2138.   5625.   1560.\n",
      "  4750.   2330.   2250.   7210.   1811.   3263.   7750.   1619.   1083.\n",
      "  2142.   4250.   4266.   4000.   1131.   5063.   3022.   1447.   2925.\n",
      "  2598.   3667.   1508.   4595.   4196.    830.   1430.   2160.   1750.\n",
      "   536.   3800.   1775.   1911.   1591.   1868.   1842.   1881.   1964.\n",
      "  2067.   3449.   1459.   1769.   2569.   2500.    484.    997.    240.\n",
      "  3890.   2004.   1213.    688.   2054.   1229.   1210.   1666.   1917.\n",
      "  1000.   4333.   1667.   3447.   3150.    242.   1625.   2333.   5500.\n",
      "  2531.   2792.   1950.   4083.   5701.   1167.   2840.   2087.   3440.\n",
      " 41667.    663.   1522.   2083.   1993.   1863.   2188.   1668.   1843.\n",
      "  1833.   3334.    700.   4417.   1010.   2857.   2934.   3500.   2375.\n",
      "  1032.   1664.   1929.   1590.   1300.   2157.   1330.   2100.   1086.\n",
      "  1632.   5000.   2436.   1126.   3750.   5266.   1793.   2417.   4114.\n",
      "  4300.   1915.   2365.   1783.   2033.   2466.   4416.   3274.   1302.\n",
      "  3666.    913.   2042.   8106.   1456.   4600.  20000.   1255.   2035.\n",
      "  2232.    800.  10968.   3066.   1851.   6667.   3136.   1417.   1872.\n",
      "  1526.   1733.   2358.   5624.   1640.   2283.   1774.   7101.   2210.\n",
      "  1516.   2275.   4301.   1400.   2917.   3541.   1719.   2166.   3167.\n",
      "  1014.   3300.   2541.   1542.   1717.   2400.   3428.   1587.   2524.\n",
      "   736.   2985.   4167.   2209.   1451.   1250.   3850.   2451.    754.\n",
      "  3000.   2816.    983.   3333.   2254.   1040.   1983.   2115.   4232.\n",
      "  1387.   2016.   2405.   2000.   6666.   4648.   1125.   3053.   2773.\n",
      "  1644.   2583.   2416.   8980.   4983.   5654.   4996.   1779.   1857.\n",
      "   189.   3369.   7250.   2014.    985.8  1041.   3583.   1820.   1030.\n",
      "  4583.   2168.   2859.   3806.   7166.   2336.   5302.   7873.   2900.\n",
      "  1376.   1398.   2791.   6250.   2253.   2302.    505. ] \n",
      "\n",
      "LoanAmount : [ 50.  96. 150. 113.  97.  56.  58. 194. 255. 152.  nan  90. 176. 125.\n",
      " 265. 184. 120. 160. 133. 290. 101. 155. 135. 175. 330. 144. 132. 180.\n",
      "  67.  60. 111. 186. 116. 127. 140. 110. 158. 122. 236. 128. 258. 280.\n",
      "  80. 185. 267. 161. 242. 230.  84.  66. 131.  98. 115.  72. 112. 130.\n",
      "  42.  44. 167. 400.  46. 165.  95. 138. 205. 182. 100. 200. 480. 253.\n",
      " 136. 201. 250.  47. 187. 436. 211. 360. 154.  30. 109. 146.  36. 151.\n",
      " 490.  75. 108.  40. 156. 139. 216.  55. 600. 141.  62. 228. 275. 124.\n",
      " 114. 244. 315.  86. 350. 102. 104. 181. 134.  94. 148.  74. 153. 118.\n",
      "  81. 123. 172.  70.  93.  83.  26.  76. 119. 173. 214.  88. 304.  73.\n",
      "  17. 700. 312. 234. 650. 225. 105. 570. 117.   9. 121. 405. 168. 218.\n",
      " 145. 188. 240. 209. 207.  35. 311. 126. 239. 107. 246.  71. 349. 149.\n",
      "  59. 166.  54. 208. 279.  65. 192. 142. 190.  99.  87.  25. 292. 129.\n",
      " 259. 296. 370.  61. 137. 191.  45. 162.  89. 103. 260. 170. 376.  78.\n",
      " 106. 380. 196.  85.] \n",
      "\n",
      "Loan_Amount_Term : [360. 180.  nan  84. 300. 240.  60. 480.  12. 120.  36.] \n",
      "\n",
      "Credit_History : [ 1.  0. nan] \n",
      "\n",
      "Property_Area : ['Urban' 'Semiurban' 'Rural'] \n",
      "\n",
      "Loan_Status : ['Y' 'N'] \n",
      "\n"
     ]
    }
   ],
   "source": [
    "for column in train_df.columns:\n",
    "    print(column, \":\", train_df[column].unique(), \"\\n\")"
   ]
  },
  {
   "cell_type": "markdown",
   "metadata": {},
   "source": [
    "###### Describe the numerical data features"
   ]
  },
  {
   "cell_type": "code",
   "execution_count": 11,
   "metadata": {},
   "outputs": [
    {
     "data": {
      "text/html": [
       "<div>\n",
       "<style scoped>\n",
       "    .dataframe tbody tr th:only-of-type {\n",
       "        vertical-align: middle;\n",
       "    }\n",
       "\n",
       "    .dataframe tbody tr th {\n",
       "        vertical-align: top;\n",
       "    }\n",
       "\n",
       "    .dataframe thead th {\n",
       "        text-align: right;\n",
       "    }\n",
       "</style>\n",
       "<table border=\"1\" class=\"dataframe\">\n",
       "  <thead>\n",
       "    <tr style=\"text-align: right;\">\n",
       "      <th></th>\n",
       "      <th>ApplicantIncome</th>\n",
       "      <th>CoapplicantIncome</th>\n",
       "      <th>LoanAmount</th>\n",
       "      <th>Loan_Amount_Term</th>\n",
       "      <th>Credit_History</th>\n",
       "    </tr>\n",
       "  </thead>\n",
       "  <tbody>\n",
       "    <tr>\n",
       "      <th>count</th>\n",
       "      <td>491.000000</td>\n",
       "      <td>491.000000</td>\n",
       "      <td>471.000000</td>\n",
       "      <td>479.000000</td>\n",
       "      <td>448.000000</td>\n",
       "    </tr>\n",
       "    <tr>\n",
       "      <th>mean</th>\n",
       "      <td>5529.997963</td>\n",
       "      <td>1569.537271</td>\n",
       "      <td>147.309979</td>\n",
       "      <td>341.286013</td>\n",
       "      <td>0.850446</td>\n",
       "    </tr>\n",
       "    <tr>\n",
       "      <th>std</th>\n",
       "      <td>6457.784318</td>\n",
       "      <td>2789.523475</td>\n",
       "      <td>87.096507</td>\n",
       "      <td>65.855043</td>\n",
       "      <td>0.357032</td>\n",
       "    </tr>\n",
       "    <tr>\n",
       "      <th>min</th>\n",
       "      <td>210.000000</td>\n",
       "      <td>0.000000</td>\n",
       "      <td>9.000000</td>\n",
       "      <td>12.000000</td>\n",
       "      <td>0.000000</td>\n",
       "    </tr>\n",
       "    <tr>\n",
       "      <th>25%</th>\n",
       "      <td>2906.000000</td>\n",
       "      <td>0.000000</td>\n",
       "      <td>100.000000</td>\n",
       "      <td>360.000000</td>\n",
       "      <td>1.000000</td>\n",
       "    </tr>\n",
       "    <tr>\n",
       "      <th>50%</th>\n",
       "      <td>3859.000000</td>\n",
       "      <td>1032.000000</td>\n",
       "      <td>128.000000</td>\n",
       "      <td>360.000000</td>\n",
       "      <td>1.000000</td>\n",
       "    </tr>\n",
       "    <tr>\n",
       "      <th>75%</th>\n",
       "      <td>5825.000000</td>\n",
       "      <td>2241.000000</td>\n",
       "      <td>168.000000</td>\n",
       "      <td>360.000000</td>\n",
       "      <td>1.000000</td>\n",
       "    </tr>\n",
       "    <tr>\n",
       "      <th>max</th>\n",
       "      <td>81000.000000</td>\n",
       "      <td>41667.000000</td>\n",
       "      <td>700.000000</td>\n",
       "      <td>480.000000</td>\n",
       "      <td>1.000000</td>\n",
       "    </tr>\n",
       "  </tbody>\n",
       "</table>\n",
       "</div>"
      ],
      "text/plain": [
       "       ApplicantIncome  CoapplicantIncome  LoanAmount  Loan_Amount_Term  \\\n",
       "count       491.000000         491.000000  471.000000        479.000000   \n",
       "mean       5529.997963        1569.537271  147.309979        341.286013   \n",
       "std        6457.784318        2789.523475   87.096507         65.855043   \n",
       "min         210.000000           0.000000    9.000000         12.000000   \n",
       "25%        2906.000000           0.000000  100.000000        360.000000   \n",
       "50%        3859.000000        1032.000000  128.000000        360.000000   \n",
       "75%        5825.000000        2241.000000  168.000000        360.000000   \n",
       "max       81000.000000       41667.000000  700.000000        480.000000   \n",
       "\n",
       "       Credit_History  \n",
       "count      448.000000  \n",
       "mean         0.850446  \n",
       "std          0.357032  \n",
       "min          0.000000  \n",
       "25%          1.000000  \n",
       "50%          1.000000  \n",
       "75%          1.000000  \n",
       "max          1.000000  "
      ]
     },
     "execution_count": 11,
     "metadata": {},
     "output_type": "execute_result"
    }
   ],
   "source": [
    "train_df.describe()"
   ]
  },
  {
   "cell_type": "code",
   "execution_count": 12,
   "metadata": {
    "scrolled": true
   },
   "outputs": [
    {
     "data": {
      "image/png": "[encoded data removed]",
      "text/plain": [
       "<Figure size 1008x720 with 6 Axes>"
      ]
     },
     "metadata": {
      "needs_background": "light"
     },
     "output_type": "display_data"
    }
   ],
   "source": [
    "train_df.hist(bins = 10, figsize = (14, 10))\n",
    "plt.show()"
   ]
  },
  {
   "cell_type": "markdown",
   "metadata": {},
   "source": [
    "Outliers found in unique values backed up. No normal distributions to the data, uneven split in credit_history and all features are skewed left"
   ]
  },
  {
   "cell_type": "markdown",
   "metadata": {},
   "source": [
    "For each numerical value\n",
    "Get the other numerical values grouped by the mean to see if this value explains variance. If there is a wide range between the other variables based on this feature and it's values then it may be highly useful for the predictor"
   ]
  },
  {
   "cell_type": "code",
   "execution_count": 13,
   "metadata": {
    "scrolled": true
   },
   "outputs": [
    {
     "data": {
      "text/html": [
       "<div>\n",
       "<style scoped>\n",
       "    .dataframe tbody tr th:only-of-type {\n",
       "        vertical-align: middle;\n",
       "    }\n",
       "\n",
       "    .dataframe tbody tr th {\n",
       "        vertical-align: top;\n",
       "    }\n",
       "\n",
       "    .dataframe thead th {\n",
       "        text-align: right;\n",
       "    }\n",
       "</style>\n",
       "<table border=\"1\" class=\"dataframe\">\n",
       "  <thead>\n",
       "    <tr style=\"text-align: right;\">\n",
       "      <th></th>\n",
       "      <th>ApplicantIncome</th>\n",
       "      <th>CoapplicantIncome</th>\n",
       "      <th>LoanAmount</th>\n",
       "      <th>Loan_Amount_Term</th>\n",
       "      <th>Credit_History</th>\n",
       "    </tr>\n",
       "    <tr>\n",
       "      <th>Loan_Status</th>\n",
       "      <th></th>\n",
       "      <th></th>\n",
       "      <th></th>\n",
       "      <th></th>\n",
       "      <th></th>\n",
       "    </tr>\n",
       "  </thead>\n",
       "  <tbody>\n",
       "    <tr>\n",
       "      <th>N</th>\n",
       "      <td>5680.545455</td>\n",
       "      <td>1764.103896</td>\n",
       "      <td>148.165517</td>\n",
       "      <td>338.756757</td>\n",
       "      <td>0.567376</td>\n",
       "    </tr>\n",
       "    <tr>\n",
       "      <th>Y</th>\n",
       "      <td>5461.201780</td>\n",
       "      <td>1480.625519</td>\n",
       "      <td>146.929448</td>\n",
       "      <td>342.416918</td>\n",
       "      <td>0.980456</td>\n",
       "    </tr>\n",
       "  </tbody>\n",
       "</table>\n",
       "</div>"
      ],
      "text/plain": [
       "             ApplicantIncome  CoapplicantIncome  LoanAmount  Loan_Amount_Term  \\\n",
       "Loan_Status                                                                     \n",
       "N                5680.545455        1764.103896  148.165517        338.756757   \n",
       "Y                5461.201780        1480.625519  146.929448        342.416918   \n",
       "\n",
       "             Credit_History  \n",
       "Loan_Status                  \n",
       "N                  0.567376  \n",
       "Y                  0.980456  "
      ]
     },
     "execution_count": 13,
     "metadata": {},
     "output_type": "execute_result"
    }
   ],
   "source": [
    "train_df.groupby(\"Loan_Status\").mean()"
   ]
  },
  {
   "cell_type": "markdown",
   "metadata": {},
   "source": [
    "Wide range of credit history suggests that is useful in predicting the class label, as does the applicant income. the loan amount appears to be all but useless having near identical values on average for both class labels"
   ]
  },
  {
   "cell_type": "code",
   "execution_count": 14,
   "metadata": {},
   "outputs": [
    {
     "data": {
      "text/html": [
       "<div>\n",
       "<style scoped>\n",
       "    .dataframe tbody tr th:only-of-type {\n",
       "        vertical-align: middle;\n",
       "    }\n",
       "\n",
       "    .dataframe tbody tr th {\n",
       "        vertical-align: top;\n",
       "    }\n",
       "\n",
       "    .dataframe thead th {\n",
       "        text-align: right;\n",
       "    }\n",
       "</style>\n",
       "<table border=\"1\" class=\"dataframe\">\n",
       "  <thead>\n",
       "    <tr style=\"text-align: right;\">\n",
       "      <th></th>\n",
       "      <th>ApplicantIncome</th>\n",
       "      <th>CoapplicantIncome</th>\n",
       "      <th>LoanAmount</th>\n",
       "      <th>Loan_Amount_Term</th>\n",
       "    </tr>\n",
       "    <tr>\n",
       "      <th>Credit_History</th>\n",
       "      <th></th>\n",
       "      <th></th>\n",
       "      <th></th>\n",
       "      <th></th>\n",
       "    </tr>\n",
       "  </thead>\n",
       "  <tbody>\n",
       "    <tr>\n",
       "      <th>0.0</th>\n",
       "      <td>6306.820896</td>\n",
       "      <td>1501.119403</td>\n",
       "      <td>145.062500</td>\n",
       "      <td>332.459016</td>\n",
       "    </tr>\n",
       "    <tr>\n",
       "      <th>1.0</th>\n",
       "      <td>5467.813648</td>\n",
       "      <td>1465.784252</td>\n",
       "      <td>145.147945</td>\n",
       "      <td>342.880000</td>\n",
       "    </tr>\n",
       "  </tbody>\n",
       "</table>\n",
       "</div>"
      ],
      "text/plain": [
       "                ApplicantIncome  CoapplicantIncome  LoanAmount  \\\n",
       "Credit_History                                                   \n",
       "0.0                 6306.820896        1501.119403  145.062500   \n",
       "1.0                 5467.813648        1465.784252  145.147945   \n",
       "\n",
       "                Loan_Amount_Term  \n",
       "Credit_History                    \n",
       "0.0                   332.459016  \n",
       "1.0                   342.880000  "
      ]
     },
     "execution_count": 14,
     "metadata": {},
     "output_type": "execute_result"
    }
   ],
   "source": [
    "train_df.groupby(\"Credit_History\").mean()"
   ]
  },
  {
   "cell_type": "markdown",
   "metadata": {},
   "source": [
    "credit history of 1 has higher applicant income, lower coapplicant income, similar loan amounts between the two feature values"
   ]
  },
  {
   "cell_type": "code",
   "execution_count": 15,
   "metadata": {},
   "outputs": [
    {
     "data": {
      "text/plain": [
       "Text(0,0.5,'Loan Status Frequency')"
      ]
     },
     "execution_count": 15,
     "metadata": {},
     "output_type": "execute_result"
    },
    {
     "data": {
      "image/png": "[encoded data removed]",
      "text/plain": [
       "<Figure size 1440x720 with 1 Axes>"
      ]
     },
     "metadata": {
      "needs_background": "light"
     },
     "output_type": "display_data"
    }
   ],
   "source": [
    "pd.crosstab(train_df.Credit_History, train_df.Loan_Status).plot(kind = 'bar', figsize = (20,10))\n",
    "plt.title('Loan Status Frequency Per Credit History')\n",
    "plt.xlabel('Credit History')\n",
    "plt.ylabel('Loan Status Frequency')"
   ]
  },
  {
   "cell_type": "code",
   "execution_count": 16,
   "metadata": {},
   "outputs": [
    {
     "data": {
      "text/html": [
       "<div>\n",
       "<style scoped>\n",
       "    .dataframe tbody tr th:only-of-type {\n",
       "        vertical-align: middle;\n",
       "    }\n",
       "\n",
       "    .dataframe tbody tr th {\n",
       "        vertical-align: top;\n",
       "    }\n",
       "\n",
       "    .dataframe thead th {\n",
       "        text-align: right;\n",
       "    }\n",
       "</style>\n",
       "<table border=\"1\" class=\"dataframe\">\n",
       "  <thead>\n",
       "    <tr style=\"text-align: right;\">\n",
       "      <th></th>\n",
       "      <th>ApplicantIncome</th>\n",
       "      <th>CoapplicantIncome</th>\n",
       "      <th>LoanAmount</th>\n",
       "      <th>Loan_Amount_Term</th>\n",
       "      <th>Credit_History</th>\n",
       "    </tr>\n",
       "    <tr>\n",
       "      <th>Married</th>\n",
       "      <th></th>\n",
       "      <th></th>\n",
       "      <th></th>\n",
       "      <th></th>\n",
       "      <th></th>\n",
       "    </tr>\n",
       "  </thead>\n",
       "  <tbody>\n",
       "    <tr>\n",
       "      <th>No</th>\n",
       "      <td>5104.893491</td>\n",
       "      <td>1219.840237</td>\n",
       "      <td>131.539877</td>\n",
       "      <td>351.658537</td>\n",
       "      <td>0.872611</td>\n",
       "    </tr>\n",
       "    <tr>\n",
       "      <th>Yes</th>\n",
       "      <td>5748.843260</td>\n",
       "      <td>1767.196865</td>\n",
       "      <td>155.633987</td>\n",
       "      <td>335.653846</td>\n",
       "      <td>0.836806</td>\n",
       "    </tr>\n",
       "  </tbody>\n",
       "</table>\n",
       "</div>"
      ],
      "text/plain": [
       "         ApplicantIncome  CoapplicantIncome  LoanAmount  Loan_Amount_Term  \\\n",
       "Married                                                                     \n",
       "No           5104.893491        1219.840237  131.539877        351.658537   \n",
       "Yes          5748.843260        1767.196865  155.633987        335.653846   \n",
       "\n",
       "         Credit_History  \n",
       "Married                  \n",
       "No             0.872611  \n",
       "Yes            0.836806  "
      ]
     },
     "execution_count": 16,
     "metadata": {},
     "output_type": "execute_result"
    }
   ],
   "source": [
    "train_df.groupby(\"Married\").mean()"
   ]
  },
  {
   "cell_type": "markdown",
   "metadata": {},
   "source": [
    "Large difference with most other features, useful to the predictors. Married people have higher applicant income and coapplicant income, other features relatively balanced"
   ]
  },
  {
   "cell_type": "code",
   "execution_count": 17,
   "metadata": {
    "scrolled": true
   },
   "outputs": [
    {
     "data": {
      "text/html": [
       "<div>\n",
       "<style scoped>\n",
       "    .dataframe tbody tr th:only-of-type {\n",
       "        vertical-align: middle;\n",
       "    }\n",
       "\n",
       "    .dataframe tbody tr th {\n",
       "        vertical-align: top;\n",
       "    }\n",
       "\n",
       "    .dataframe thead th {\n",
       "        text-align: right;\n",
       "    }\n",
       "</style>\n",
       "<table border=\"1\" class=\"dataframe\">\n",
       "  <thead>\n",
       "    <tr style=\"text-align: right;\">\n",
       "      <th></th>\n",
       "      <th>ApplicantIncome</th>\n",
       "      <th>CoapplicantIncome</th>\n",
       "      <th>LoanAmount</th>\n",
       "      <th>Loan_Amount_Term</th>\n",
       "      <th>Credit_History</th>\n",
       "    </tr>\n",
       "    <tr>\n",
       "      <th>Gender</th>\n",
       "      <th></th>\n",
       "      <th></th>\n",
       "      <th></th>\n",
       "      <th></th>\n",
       "      <th></th>\n",
       "    </tr>\n",
       "  </thead>\n",
       "  <tbody>\n",
       "    <tr>\n",
       "      <th>Female</th>\n",
       "      <td>4725.287356</td>\n",
       "      <td>1159.839080</td>\n",
       "      <td>124.035294</td>\n",
       "      <td>351.428571</td>\n",
       "      <td>0.871795</td>\n",
       "    </tr>\n",
       "    <tr>\n",
       "      <th>Male</th>\n",
       "      <td>5529.109415</td>\n",
       "      <td>1673.846819</td>\n",
       "      <td>150.549333</td>\n",
       "      <td>339.156250</td>\n",
       "      <td>0.850000</td>\n",
       "    </tr>\n",
       "  </tbody>\n",
       "</table>\n",
       "</div>"
      ],
      "text/plain": [
       "        ApplicantIncome  CoapplicantIncome  LoanAmount  Loan_Amount_Term  \\\n",
       "Gender                                                                     \n",
       "Female      4725.287356        1159.839080  124.035294        351.428571   \n",
       "Male        5529.109415        1673.846819  150.549333        339.156250   \n",
       "\n",
       "        Credit_History  \n",
       "Gender                  \n",
       "Female        0.871795  \n",
       "Male          0.850000  "
      ]
     },
     "execution_count": 17,
     "metadata": {},
     "output_type": "execute_result"
    }
   ],
   "source": [
    "train_df.groupby(\"Gender\").mean()"
   ]
  },
  {
   "cell_type": "markdown",
   "metadata": {},
   "source": [
    "wide difference between genders and the applicant income/coapplicant income, both lower for female gender, other features relatively balanced"
   ]
  },
  {
   "cell_type": "code",
   "execution_count": 18,
   "metadata": {
    "scrolled": false
   },
   "outputs": [
    {
     "data": {
      "text/html": [
       "<div>\n",
       "<style scoped>\n",
       "    .dataframe tbody tr th:only-of-type {\n",
       "        vertical-align: middle;\n",
       "    }\n",
       "\n",
       "    .dataframe tbody tr th {\n",
       "        vertical-align: top;\n",
       "    }\n",
       "\n",
       "    .dataframe thead th {\n",
       "        text-align: right;\n",
       "    }\n",
       "</style>\n",
       "<table border=\"1\" class=\"dataframe\">\n",
       "  <thead>\n",
       "    <tr style=\"text-align: right;\">\n",
       "      <th></th>\n",
       "      <th>ApplicantIncome</th>\n",
       "      <th>CoapplicantIncome</th>\n",
       "      <th>LoanAmount</th>\n",
       "      <th>Loan_Amount_Term</th>\n",
       "      <th>Credit_History</th>\n",
       "    </tr>\n",
       "    <tr>\n",
       "      <th>Property_Area</th>\n",
       "      <th></th>\n",
       "      <th></th>\n",
       "      <th></th>\n",
       "      <th></th>\n",
       "      <th></th>\n",
       "    </tr>\n",
       "  </thead>\n",
       "  <tbody>\n",
       "    <tr>\n",
       "      <th>Rural</th>\n",
       "      <td>5690.324138</td>\n",
       "      <td>1622.096552</td>\n",
       "      <td>152.474820</td>\n",
       "      <td>343.014085</td>\n",
       "      <td>0.810606</td>\n",
       "    </tr>\n",
       "    <tr>\n",
       "      <th>Semiurban</th>\n",
       "      <td>5369.967391</td>\n",
       "      <td>1492.168478</td>\n",
       "      <td>148.000000</td>\n",
       "      <td>345.692308</td>\n",
       "      <td>0.888889</td>\n",
       "    </tr>\n",
       "    <tr>\n",
       "      <th>Urban</th>\n",
       "      <td>5568.259259</td>\n",
       "      <td>1610.369136</td>\n",
       "      <td>141.810458</td>\n",
       "      <td>334.529032</td>\n",
       "      <td>0.841379</td>\n",
       "    </tr>\n",
       "  </tbody>\n",
       "</table>\n",
       "</div>"
      ],
      "text/plain": [
       "               ApplicantIncome  CoapplicantIncome  LoanAmount  \\\n",
       "Property_Area                                                   \n",
       "Rural              5690.324138        1622.096552  152.474820   \n",
       "Semiurban          5369.967391        1492.168478  148.000000   \n",
       "Urban              5568.259259        1610.369136  141.810458   \n",
       "\n",
       "               Loan_Amount_Term  Credit_History  \n",
       "Property_Area                                    \n",
       "Rural                343.014085        0.810606  \n",
       "Semiurban            345.692308        0.888889  \n",
       "Urban                334.529032        0.841379  "
      ]
     },
     "execution_count": 18,
     "metadata": {},
     "output_type": "execute_result"
    }
   ],
   "source": [
    "train_df.groupby(\"Property_Area\").mean()"
   ]
  },
  {
   "cell_type": "markdown",
   "metadata": {},
   "source": [
    "Rural buyers have generally less applicant income, higher coapplicant income, higher loan amount "
   ]
  },
  {
   "cell_type": "code",
   "execution_count": 19,
   "metadata": {
    "scrolled": false
   },
   "outputs": [
    {
     "data": {
      "text/plain": [
       "Text(0,0.5,'Loan Status')"
      ]
     },
     "execution_count": 19,
     "metadata": {},
     "output_type": "execute_result"
    },
    {
     "data": {
      "image/png": "[encoded data removed]",
      "text/plain": [
       "<Figure size 1440x720 with 1 Axes>"
      ]
     },
     "metadata": {
      "needs_background": "light"
     },
     "output_type": "display_data"
    }
   ],
   "source": [
    "pd.crosstab(train_df.Gender, train_df.Loan_Status).plot(kind = 'bar', figsize = (20,10), stacked = True)\n",
    "plt.title('Loan Status per Gender')\n",
    "plt.xlabel('Gender')\n",
    "plt.ylabel('Loan Status')\n",
    "#shows useless "
   ]
  },
  {
   "cell_type": "markdown",
   "metadata": {},
   "source": [
    "Both genders have a relatively balanced division between the two class labels despite higher occurence of male gender in dataset"
   ]
  },
  {
   "cell_type": "code",
   "execution_count": 20,
   "metadata": {
    "scrolled": false
   },
   "outputs": [
    {
     "data": {
      "text/plain": [
       "Text(0,0.5,'Loan Status')"
      ]
     },
     "execution_count": 20,
     "metadata": {},
     "output_type": "execute_result"
    },
    {
     "data": {
      "image/png": "[encoded data removed]",
      "text/plain": [
       "<Figure size 1440x720 with 1 Axes>"
      ]
     },
     "metadata": {
      "needs_background": "light"
     },
     "output_type": "display_data"
    }
   ],
   "source": [
    "pd.crosstab(train_df.Dependents, train_df.Loan_Status).plot(kind = 'bar', figsize = (20,10), stacked = True)\n",
    "plt.title('Loan Status by number of Dependents')\n",
    "plt.xlabel('Number of Dependents')\n",
    "plt.ylabel('Loan Status')"
   ]
  },
  {
   "cell_type": "markdown",
   "metadata": {},
   "source": [
    "Roughly balanced division of class labels despite much higher occurence of 0 dependents within the dataset, might not be a useful predictor"
   ]
  },
  {
   "cell_type": "code",
   "execution_count": 21,
   "metadata": {},
   "outputs": [
    {
     "data": {
      "text/plain": [
       "Text(0,0.5,'Loan Status')"
      ]
     },
     "execution_count": 21,
     "metadata": {},
     "output_type": "execute_result"
    },
    {
     "data": {
      "image/png": "[encoded data removed]",
      "text/plain": [
       "<Figure size 1440x720 with 1 Axes>"
      ]
     },
     "metadata": {
      "needs_background": "light"
     },
     "output_type": "display_data"
    }
   ],
   "source": [
    "pd.crosstab(train_df.Married, train_df.Loan_Status).plot(kind = 'bar', figsize = (20,10), stacked = True)\n",
    "plt.title('Loan Status by Marital Status')\n",
    "plt.xlabel('Married')\n",
    "plt.ylabel('Loan Status')"
   ]
  },
  {
   "cell_type": "markdown",
   "metadata": {},
   "source": [
    "Married applicants have a higher percentage of Y class labels than single applicants. Could be useful as a predictor"
   ]
  },
  {
   "cell_type": "code",
   "execution_count": 22,
   "metadata": {
    "scrolled": true
   },
   "outputs": [
    {
     "data": {
      "text/plain": [
       "Text(0,0.5,'Loan Status')"
      ]
     },
     "execution_count": 22,
     "metadata": {},
     "output_type": "execute_result"
    },
    {
     "data": {
      "image/png": "[encoded data removed]",
      "text/plain": [
       "<Figure size 1440x720 with 1 Axes>"
      ]
     },
     "metadata": {
      "needs_background": "light"
     },
     "output_type": "display_data"
    }
   ],
   "source": [
    "pd.crosstab(train_df.Education, train_df.Loan_Status).plot(kind = 'bar', figsize = (20,10), stacked = True)\n",
    "plt.title('Loan Status by Education Status')\n",
    "plt.xlabel('Education Status')\n",
    "plt.ylabel('Loan Status')"
   ]
  },
  {
   "cell_type": "markdown",
   "metadata": {},
   "source": [
    "Education status appears to be evenly divided between the two class labels, suggests not a good predictor"
   ]
  },
  {
   "cell_type": "code",
   "execution_count": 23,
   "metadata": {
    "scrolled": true
   },
   "outputs": [
    {
     "data": {
      "text/plain": [
       "Text(0,0.5,'Loan Status')"
      ]
     },
     "execution_count": 23,
     "metadata": {},
     "output_type": "execute_result"
    },
    {
     "data": {
      "image/png": "[encoded data removed]",
      "text/plain": [
       "<Figure size 1440x720 with 1 Axes>"
      ]
     },
     "metadata": {
      "needs_background": "light"
     },
     "output_type": "display_data"
    }
   ],
   "source": [
    "pd.crosstab(train_df.Self_Employed, train_df.Loan_Status).plot(kind = 'bar', figsize = (20,10), stacked = True)\n",
    "plt.title('Loan Status by Employment Status')\n",
    "plt.xlabel('Self Employed')\n",
    "plt.ylabel('Loan Status')"
   ]
  },
  {
   "cell_type": "markdown",
   "metadata": {},
   "source": [
    "Despite the difference in number of each value in the feature, the division of class labels appears to be relatively even. Does not appear to be a predictor"
   ]
  },
  {
   "cell_type": "code",
   "execution_count": 24,
   "metadata": {
    "scrolled": true
   },
   "outputs": [
    {
     "data": {
      "text/plain": [
       "Text(0,0.5,'Loan Status')"
      ]
     },
     "execution_count": 24,
     "metadata": {},
     "output_type": "execute_result"
    },
    {
     "data": {
      "image/png": "[encoded data removed]",
      "text/plain": [
       "<Figure size 1440x720 with 1 Axes>"
      ]
     },
     "metadata": {
      "needs_background": "light"
     },
     "output_type": "display_data"
    }
   ],
   "source": [
    "pd.crosstab(train_df.Property_Area, train_df.Loan_Status).plot(kind = 'bar', figsize = (20,10), stacked = True)\n",
    "plt.title('Loan Status by Property Area')\n",
    "plt.xlabel('Property Area')\n",
    "plt.ylabel('Loan Status')"
   ]
  },
  {
   "cell_type": "markdown",
   "metadata": {},
   "source": [
    "Semi-urban appears to be a better predictor of class label than the other two feature values"
   ]
  },
  {
   "cell_type": "markdown",
   "metadata": {},
   "source": [
    "#### Exploration of null values"
   ]
  },
  {
   "cell_type": "code",
   "execution_count": 25,
   "metadata": {},
   "outputs": [
    {
     "data": {
      "text/plain": [
       "<matplotlib.axes._subplots.AxesSubplot at 0x1e6d7e53d68>"
      ]
     },
     "execution_count": 25,
     "metadata": {},
     "output_type": "execute_result"
    },
    {
     "data": {
      "image/png": "[encoded data removed]",
      "text/plain": [
       "<Figure size 432x288 with 1 Axes>"
      ]
     },
     "metadata": {
      "needs_background": "light"
     },
     "output_type": "display_data"
    }
   ],
   "source": [
    "#Extract all instances with null/missing values, group by them then plot to get a division of class\n",
    "null_data = train_df[train_df.isnull().any(axis=1)]\n",
    "null_data.groupby(null_data.Loan_Status)\n",
    "null_data.Loan_Status.value_counts().plot(kind='bar')"
   ]
  },
  {
   "cell_type": "markdown",
   "metadata": {},
   "source": [
    "More Y instances have missing data than N,follows the expectation as the dataset is split to more Y instances than N"
   ]
  },
  {
   "cell_type": "code",
   "execution_count": 26,
   "metadata": {
    "scrolled": false
   },
   "outputs": [
    {
     "data": {
      "image/png": "[encoded data removed]",
      "text/plain": [
       "<Figure size 432x288 with 1 Axes>"
      ]
     },
     "metadata": {
      "needs_background": "light"
     },
     "output_type": "display_data"
    },
    {
     "data": {
      "image/png": "[encoded data removed]",
      "text/plain": [
       "<Figure size 432x288 with 1 Axes>"
      ]
     },
     "metadata": {
      "needs_background": "light"
     },
     "output_type": "display_data"
    },
    {
     "data": {
      "image/png": "[encoded data removed]",
      "text/plain": [
       "<Figure size 432x288 with 1 Axes>"
      ]
     },
     "metadata": {
      "needs_background": "light"
     },
     "output_type": "display_data"
    },
    {
     "data": {
      "image/png": "[encoded data removed]",
      "text/plain": [
       "<Figure size 432x288 with 1 Axes>"
      ]
     },
     "metadata": {
      "needs_background": "light"
     },
     "output_type": "display_data"
    },
    {
     "data": {
      "image/png": "[encoded data removed]",
      "text/plain": [
       "<Figure size 432x288 with 1 Axes>"
      ]
     },
     "metadata": {
      "needs_background": "light"
     },
     "output_type": "display_data"
    },
    {
     "data": {
      "image/png": "[encoded data removed]",
      "text/plain": [
       "<Figure size 432x288 with 1 Axes>"
      ]
     },
     "metadata": {
      "needs_background": "light"
     },
     "output_type": "display_data"
    },
    {
     "data": {
      "image/png": "[encoded data removed]",
      "text/plain": [
       "<Figure size 432x288 with 1 Axes>"
      ]
     },
     "metadata": {
      "needs_background": "light"
     },
     "output_type": "display_data"
    }
   ],
   "source": [
    "#Plot the number of missing values per column by the class label\n",
    "for c in train_df.columns:\n",
    "    if train_df[c].isnull().sum() > 0:\n",
    "        data = train_df[pd.isnull(train_df[c])]\n",
    "        data.Loan_Status.value_counts().plot(kind='bar')\n",
    "        plt.title('Loan Status by ' + str(c))\n",
    "        plt.xlabel('Loan Status')\n",
    "        plt.ylabel('Frequency')\n",
    "        plt.show()\n"
   ]
  },
  {
   "cell_type": "markdown",
   "metadata": {},
   "source": [
    "Interesting notes:\n",
    "- Married only has missing data for the Y class\n",
    "- Loan Status has more missing Y data than N, roughly on par with division of labels in dataset\n",
    "- even split between Loan_Amount and Loan Amount_Term for the classes\n",
    "- Self employed and dependents appear to have the same distribution of class label for missing data\n"
   ]
  },
  {
   "cell_type": "markdown",
   "metadata": {},
   "source": [
    "## Data cleansing and preparation"
   ]
  },
  {
   "cell_type": "markdown",
   "metadata": {},
   "source": [
    "First remove outliers"
   ]
  },
  {
   "cell_type": "code",
   "execution_count": 27,
   "metadata": {},
   "outputs": [
    {
     "data": {
      "text/html": [
       "<div>\n",
       "<style scoped>\n",
       "    .dataframe tbody tr th:only-of-type {\n",
       "        vertical-align: middle;\n",
       "    }\n",
       "\n",
       "    .dataframe tbody tr th {\n",
       "        vertical-align: top;\n",
       "    }\n",
       "\n",
       "    .dataframe thead th {\n",
       "        text-align: right;\n",
       "    }\n",
       "</style>\n",
       "<table border=\"1\" class=\"dataframe\">\n",
       "  <thead>\n",
       "    <tr style=\"text-align: right;\">\n",
       "      <th></th>\n",
       "      <th>ApplicantIncome</th>\n",
       "      <th>CoapplicantIncome</th>\n",
       "      <th>LoanAmount</th>\n",
       "      <th>Loan_Amount_Term</th>\n",
       "      <th>Credit_History</th>\n",
       "    </tr>\n",
       "  </thead>\n",
       "  <tbody>\n",
       "    <tr>\n",
       "      <th>count</th>\n",
       "      <td>489.000000</td>\n",
       "      <td>489.000000</td>\n",
       "      <td>469.000000</td>\n",
       "      <td>477.000000</td>\n",
       "      <td>447.000000</td>\n",
       "    </tr>\n",
       "    <tr>\n",
       "      <th>mean</th>\n",
       "      <td>5386.120654</td>\n",
       "      <td>1490.748057</td>\n",
       "      <td>146.424307</td>\n",
       "      <td>341.584906</td>\n",
       "      <td>0.852349</td>\n",
       "    </tr>\n",
       "    <tr>\n",
       "      <th>std</th>\n",
       "      <td>5488.897616</td>\n",
       "      <td>2123.058730</td>\n",
       "      <td>86.214781</td>\n",
       "      <td>65.571595</td>\n",
       "      <td>0.355151</td>\n",
       "    </tr>\n",
       "    <tr>\n",
       "      <th>min</th>\n",
       "      <td>210.000000</td>\n",
       "      <td>0.000000</td>\n",
       "      <td>9.000000</td>\n",
       "      <td>12.000000</td>\n",
       "      <td>0.000000</td>\n",
       "    </tr>\n",
       "    <tr>\n",
       "      <th>25%</th>\n",
       "      <td>2917.000000</td>\n",
       "      <td>0.000000</td>\n",
       "      <td>100.000000</td>\n",
       "      <td>360.000000</td>\n",
       "      <td>1.000000</td>\n",
       "    </tr>\n",
       "    <tr>\n",
       "      <th>50%</th>\n",
       "      <td>3859.000000</td>\n",
       "      <td>1032.000000</td>\n",
       "      <td>128.000000</td>\n",
       "      <td>360.000000</td>\n",
       "      <td>1.000000</td>\n",
       "    </tr>\n",
       "    <tr>\n",
       "      <th>75%</th>\n",
       "      <td>5821.000000</td>\n",
       "      <td>2232.000000</td>\n",
       "      <td>167.000000</td>\n",
       "      <td>360.000000</td>\n",
       "      <td>1.000000</td>\n",
       "    </tr>\n",
       "    <tr>\n",
       "      <th>max</th>\n",
       "      <td>63337.000000</td>\n",
       "      <td>20000.000000</td>\n",
       "      <td>700.000000</td>\n",
       "      <td>480.000000</td>\n",
       "      <td>1.000000</td>\n",
       "    </tr>\n",
       "  </tbody>\n",
       "</table>\n",
       "</div>"
      ],
      "text/plain": [
       "       ApplicantIncome  CoapplicantIncome  LoanAmount  Loan_Amount_Term  \\\n",
       "count       489.000000         489.000000  469.000000        477.000000   \n",
       "mean       5386.120654        1490.748057  146.424307        341.584906   \n",
       "std        5488.897616        2123.058730   86.214781         65.571595   \n",
       "min         210.000000           0.000000    9.000000         12.000000   \n",
       "25%        2917.000000           0.000000  100.000000        360.000000   \n",
       "50%        3859.000000        1032.000000  128.000000        360.000000   \n",
       "75%        5821.000000        2232.000000  167.000000        360.000000   \n",
       "max       63337.000000       20000.000000  700.000000        480.000000   \n",
       "\n",
       "       Credit_History  \n",
       "count      447.000000  \n",
       "mean         0.852349  \n",
       "std          0.355151  \n",
       "min          0.000000  \n",
       "25%          1.000000  \n",
       "50%          1.000000  \n",
       "75%          1.000000  \n",
       "max          1.000000  "
      ]
     },
     "execution_count": 27,
     "metadata": {},
     "output_type": "execute_result"
    }
   ],
   "source": [
    "#remove the outliers\n",
    "train_df.drop(train_df[train_df['ApplicantIncome'] == 81000].index, inplace = True)\n",
    "train_df.drop(train_df[train_df['CoapplicantIncome'] == 41667].index, inplace = True)\n",
    "\n",
    "#train_df.drop(train_df[train_df['ApplicantIncome'] == 63337].index, inplace = True)\n",
    "\n",
    "train_df.describe()"
   ]
  },
  {
   "cell_type": "markdown",
   "metadata": {},
   "source": [
    "Now process the data to remove the missing values. Due to the high number of missing values across the dataset (approx 20-25%) of the training data, we cannot simply drop the data. The approach taken in this project is to:\n",
    "\n",
    "a) should the number of missing values of a feature be less than 0.025% of the dataset (approx 12 per feature type), drop the missing values of the dataset. Should every feature have this number of missing values at most we would be dropping at most 11 * 0.025 = 0.275 = 2.75% of the dataset. this would still provide plenty of information while removing the missing values\n",
    "\n",
    "b) should the number of missing values of a feature be greater than 0.025% of the dataset, then use the pandas interpolation function in order to find the nearest neighbour to the instance with missing values and interpolate the missing values based on this. While this does bring in a problem of oversaturating the dataset with similar values, this avoids the flat rule of just replacing every feature with the most common value, ensuring there is some variance in the final dataset, and ensuring that there is enough information left in the dataset to make models useful, which would not be the case from simply dropping these instances\n",
    "\n",
    "This behaviour is repeated for the test set, though the threshold for dropping values is much lower due to the smaller test size, sitting at approximately 3 instances of missing data per features rather than twelve."
   ]
  },
  {
   "cell_type": "code",
   "execution_count": 28,
   "metadata": {},
   "outputs": [
    {
     "name": "stdout",
     "output_type": "stream",
     "text": [
      "Total number of rows dropped from training data is: 22\n",
      "Total number of rows dropped from test data is: 6\n"
     ]
    }
   ],
   "source": [
    "l = train_df.isna().sum()\n",
    "subset =[]\n",
    "x = 0\n",
    "col_drop_threshold = np.round(len(train_df)*0.025)\n",
    "\n",
    "for c in train_df.columns:\n",
    "    if l[c] < col_drop_threshold:\n",
    "        subset.append(c)\n",
    "        x = x+l[c]\n",
    "\n",
    "print(\"Total number of rows dropped from training data is: \" + str(x))\n",
    "train_df = train_df.dropna(axis=0, subset=subset)\n",
    "\n",
    "l = test_df.isna().sum()\n",
    "subset =[]\n",
    "x = 0\n",
    "col_drop_threshold = np.round(len(test_df)*0.025)\n",
    "\n",
    "for c in train_df.columns:\n",
    "    if l[c] < col_drop_threshold:\n",
    "        subset.append(c)\n",
    "        x = x+l[c]\n",
    "\n",
    "test_df = test_df.dropna(axis=0, subset=subset)\n",
    "print(\"Total number of rows dropped from test data is: \" + str(x))"
   ]
  },
  {
   "cell_type": "code",
   "execution_count": 29,
   "metadata": {},
   "outputs": [],
   "source": [
    "train_df = train_df.interpolate()\n",
    "test_df = test_df.interpolate()\n",
    "\n",
    "train_df= train_df.fillna(method=\"ffill\")\n",
    "test_df = test_df.fillna(method=\"ffill\")"
   ]
  },
  {
   "cell_type": "code",
   "execution_count": 30,
   "metadata": {},
   "outputs": [
    {
     "name": "stdout",
     "output_type": "stream",
     "text": [
      "Gender : ['Male' 'Female'] \n",
      "\n",
      "Married : ['No' 'Yes'] \n",
      "\n",
      "Dependents : ['0' '1' '2' '3+'] \n",
      "\n",
      "Education : ['Graduate' 'Not Graduate'] \n",
      "\n",
      "Self_Employed : ['No' 'Yes'] \n",
      "\n",
      "ApplicantIncome : [ 3254  3315  3340  2653  2620  1875  3000  2383  7441  4583 37719  2876\n",
      "  3750  2583  6000  4166  7333  4333  4288  4000  4695  2045 10000  3500\n",
      "  5568  6083  5746  3593  3167  2500  2995  3846  5333  5935  4400  1916\n",
      "  1000  4167  4133  2014  3189  3095  5000  3463  5726  8333  3547 14583\n",
      "  5417  4860  5285 14999  5818  6700  3775  2917  2400  3727  5821  3717\n",
      "  4547  3541  6783  2600  2132  1809  2750  3716  5649  1378  7740  2213\n",
      "  5800 17500  2378  5391  3497  2275  2609  3667  4755  1820  7142  6080\n",
      "  3159  9703  5829  6875 20233  3833  3276  3600  3083  6540  1977  8072\n",
      "  4300  1668  6065  1800 10416  5250  5923  7200  4554  4350  3237  3466\n",
      "  3902  2787  6383  3166  6050  7250  4095 63337  2083  5316  2395  3675\n",
      " 13262  2667  2929  1025  2366 39999  2894  3232  6822  4354  3867  9083\n",
      "  2965  2708  7451 16666  4310  6045  5124  1853  9166  4680  2645  5955\n",
      " 16667  3017  6950  8334  2297  5042  2454  3588  4616  4707  3015  3748\n",
      "  4301  6033  3400  2882  7901  7100  3200  4408  3244  3406  7578  4625\n",
      "  4931  5166 11000  4750  3992  2492  5468  3510  2947  2507  7583  3601\n",
      "  3103  3417  3597  5849  3708  3086  9504  3410  1828 14683  4600  1299\n",
      "  2031  4945  2720  5819 10750  3596  1958 10833  5708  8000  2221  5488\n",
      " 20166 11417  2577  5500  4950  2764  4887 19730 14866  4384  3522  2333\n",
      "  2000  3572  2666 12876  4683  7667  6096  1907  2526  9328  7787  3033\n",
      "  2253  2483  6283  3993  1442  4188  3652  2679  5815  3326  2178 19484\n",
      "  2550  3073  2718  1600  1993  2309  3283  6782  1782  3927 12841  3208\n",
      "  1926  3427 20833  3316  3010  3246  4006  3948  2479  4923  1811  4865\n",
      "  3399  5266  2661  3180  2755  3859  3676 16250  4895  3100   210  1759\n",
      "  7085  4281  3333  3481  5167 16525  3358  2769  3812  2167  5191  3069\n",
      "  2647  7660  2239  4344  4566  5695  2060  6400  3430 10513  3459  2957\n",
      "  8624  4283  3416  3850  3029  4160  2439 20667  4226  4106  2510  3691\n",
      " 10408  5941  4100  2071  4708  2435  5703  3762  6633  1880  3865 18165\n",
      "  2895  2785  2927  3704  3875  6608  2130  9560  9167  6125  2889  5532\n",
      "  3173  4230  5185  3988  3158  2768 14880  3917  6216  3182  7933  2935\n",
      "  1928 16120  3125  3075  2137  8666  6250  3418  8750  9538  3155  2833\n",
      "  4342 17263  2301  1863  4652  6500  8799  8300  3273  2491  5050  3052\n",
      "  6333  3357  4843  4200  2980  3692  7948  3941  4692  4050  4467  9323\n",
      "  2958  6256 33846 11250  4723  7167  4666  3539  2214  2971  2625  2799\n",
      "  2484  2423] \n",
      "\n",
      "CoapplicantIncome : [    0.  1710.  1500.  2223.  1875.  3416.  2138.  5625.  1560.  4750.\n",
      "  2330.  2250.  7210.  1811.  3263.  7750.  1619.  1083.  2142.  4250.\n",
      "  4266.  4000.  1131.  5063.  3022.  1447.  2925.  2598.  3667.  1508.\n",
      "  4595.  4196.   830.  1430.  2160.  1750.   536.  3800.  1775.  1911.\n",
      "  1591.  1868.  1842.  1881.  1964.  2067.  3449.  1459.  1769.  2569.\n",
      "  2500.   484.   997.   240.  3890.  2004.  1213.   688.  2054.  1229.\n",
      "  1210.  1666.  1917.  1000.  4333.  1667.  3447.  3150.   242.  1625.\n",
      "  2333.  5500.  2531.  2792.  1950.  5701.  1167.  2840.  2087.  3440.\n",
      "   663.  1522.  2083.  1993.  1863.  2188.  1668.  1843.  1833.  3334.\n",
      "   700.  4417.  1010.  2857.  2934.  3500.  2375.  1032.  1664.  1929.\n",
      "  1590.  1300.  2157.  1330.  2100.  1086.  1632.  5000.  2436.  1126.\n",
      "  3750.  5266.  1793.  2417.  4114.  4300.  1915.  2365.  1783.  2033.\n",
      "  2466.  4416.  3274.  1302.  3666.   913.  2042.  8106.  1456.  4600.\n",
      " 20000.  1255.  2035.  2232.   800. 10968.  3066.  1851.  6667.  3136.\n",
      "  1417.  1526.  1733.  2358.  5624.  1640.  2283.  1774.  7101.  1516.\n",
      "  2275.  4301.  1400.  2917.  3541.  1719.  2166.  3167.  1014.  3300.\n",
      "  2541.  1542.  1717.  2400.  3428.  1587.  2524.   736.  2985.  4167.\n",
      "  2209.  1250.  3850.  2451.  3000.  2816.   983.  3333.  2254.  1040.\n",
      "  1983.  2115.  4232.   754.  1387.  2016.  2405.  2000.  6666.  4648.\n",
      "  1125.  3053.  2773.  1644.  2583.  2416.  8980.  4983.  5654.  4996.\n",
      "  1779.  1857.   189.  3369.  7250.  2014.   986.  1041.  3583.  1820.\n",
      "  1030.  4583.  2168.  2859.  3806.  7166.  2336.  5302.  7873.  2900.\n",
      "  1376.  1398.  2791.  6250.  2253.  2302.   505.] \n",
      "\n",
      "LoanAmount : [ 50.  96. 150. 113.  97.  56.  58. 194. 255. 152.  90. 176. 125. 265.\n",
      " 184. 120. 160. 133. 290. 101. 155. 135. 175. 330. 144. 132. 180.  67.\n",
      "  60. 111. 186. 116. 127. 140. 110. 158. 122. 236. 128. 258. 280.  80.\n",
      " 185. 267. 161. 242. 230.  84.  66.  98. 131. 115.  72. 112. 130.  42.\n",
      "  44. 167. 400.  46. 165.  95. 138. 205. 182. 100. 200. 480. 253. 136.\n",
      " 201. 250.  47. 187. 436. 211. 154.  30. 109. 146.  36. 151. 490.  75.\n",
      " 108.  40. 156. 139. 216.  55. 600. 141.  62. 228. 275. 124. 114. 244.\n",
      " 315.  86. 102. 104. 181. 134. 148.  74. 153. 118.  81. 123. 172.  70.\n",
      "  93.  83.  61.  26.  76. 119. 173. 214.  88. 304.  73.  17. 312. 234.\n",
      " 650. 225. 105. 570. 117.   9. 121. 405. 168. 218. 145. 188. 240. 209.\n",
      " 207.  35.  94. 311. 126. 239. 107. 246. 349. 149.  59. 166.  54. 208.\n",
      " 279.  71.  65. 192. 142. 190.  99.  87.  25. 129. 259. 296. 137. 191.\n",
      "  45. 162.  89. 103. 260. 170. 376.  78. 106. 380. 196.  85.] \n",
      "\n",
      "Loan_Amount_Term : [360. 180.  84. 300. 240.  60. 480. 186.  12. 120.  36.] \n",
      "\n",
      "Credit_History : [1. 0.] \n",
      "\n",
      "Property_Area : ['Urban' 'Semiurban' 'Rural'] \n",
      "\n",
      "Loan_Status : ['Y' 'N'] \n",
      "\n"
     ]
    }
   ],
   "source": [
    "for c in numerical_attributes:\n",
    "    train_df[c] = np.round(train_df[c])\n",
    "    test_df[c] = np.round(test_df[c])\n",
    "for column in train_df.columns:\n",
    "    print(column, \":\", train_df[column].unique(), \"\\n\")"
   ]
  },
  {
   "cell_type": "markdown",
   "metadata": {},
   "source": [
    "Next, we use the categorical and numerical columns discovered above to efficiently one hot encode the categorical columns and to standardise the numerical ones. The decision was made not to use a pipeline due to the difficulty of understanding the model which was built as the pipeline destroyed the integrity of the columns and ease of understanding of the dataset. Instead the numerical values were standardised and the categoricals had dummies created to keep the integrity of the dataset and ease of understanding in subsequent models which were built\n"
   ]
  },
  {
   "cell_type": "code",
   "execution_count": 31,
   "metadata": {},
   "outputs": [],
   "source": [
    "y_train = train_df['Loan_Status'].copy()\n",
    "y_test = test_df['Loan_Status'].copy()\n",
    "\n",
    "y_train.replace('Y', 1, inplace=True)\n",
    "y_train.replace('N', 0, inplace=True)\n",
    "\n",
    "y_test.replace('Y', 1, inplace=True)\n",
    "y_test.replace('N', 0, inplace=True)\n"
   ]
  },
  {
   "cell_type": "code",
   "execution_count": 32,
   "metadata": {},
   "outputs": [
    {
     "data": {
      "text/html": [
       "<div>\n",
       "<style scoped>\n",
       "    .dataframe tbody tr th:only-of-type {\n",
       "        vertical-align: middle;\n",
       "    }\n",
       "\n",
       "    .dataframe tbody tr th {\n",
       "        vertical-align: top;\n",
       "    }\n",
       "\n",
       "    .dataframe thead th {\n",
       "        text-align: right;\n",
       "    }\n",
       "</style>\n",
       "<table border=\"1\" class=\"dataframe\">\n",
       "  <thead>\n",
       "    <tr style=\"text-align: right;\">\n",
       "      <th></th>\n",
       "      <th>ApplicantIncome</th>\n",
       "      <th>CoapplicantIncome</th>\n",
       "      <th>LoanAmount</th>\n",
       "      <th>Loan_Amount_Term</th>\n",
       "      <th>Credit_History</th>\n",
       "      <th>Gender_Female</th>\n",
       "      <th>Gender_Male</th>\n",
       "      <th>Married_No</th>\n",
       "      <th>Married_Yes</th>\n",
       "      <th>Dependents_0</th>\n",
       "      <th>Dependents_1</th>\n",
       "      <th>Dependents_2</th>\n",
       "      <th>Dependents_3+</th>\n",
       "      <th>Education_Graduate</th>\n",
       "      <th>Education_Not Graduate</th>\n",
       "      <th>Self_Employed_No</th>\n",
       "      <th>Self_Employed_Yes</th>\n",
       "      <th>Property_Area_Rural</th>\n",
       "      <th>Property_Area_Semiurban</th>\n",
       "      <th>Property_Area_Urban</th>\n",
       "    </tr>\n",
       "  </thead>\n",
       "  <tbody>\n",
       "    <tr>\n",
       "      <th>0</th>\n",
       "      <td>-0.391301</td>\n",
       "      <td>-0.706680</td>\n",
       "      <td>-1.154794</td>\n",
       "      <td>0.283490</td>\n",
       "      <td>0.418330</td>\n",
       "      <td>0</td>\n",
       "      <td>1</td>\n",
       "      <td>1</td>\n",
       "      <td>0</td>\n",
       "      <td>1</td>\n",
       "      <td>0</td>\n",
       "      <td>0</td>\n",
       "      <td>0</td>\n",
       "      <td>1</td>\n",
       "      <td>0</td>\n",
       "      <td>1</td>\n",
       "      <td>0</td>\n",
       "      <td>0</td>\n",
       "      <td>0</td>\n",
       "      <td>1</td>\n",
       "    </tr>\n",
       "    <tr>\n",
       "      <th>1</th>\n",
       "      <td>-0.379178</td>\n",
       "      <td>-0.706680</td>\n",
       "      <td>-0.589631</td>\n",
       "      <td>0.283490</td>\n",
       "      <td>0.418330</td>\n",
       "      <td>0</td>\n",
       "      <td>1</td>\n",
       "      <td>0</td>\n",
       "      <td>1</td>\n",
       "      <td>0</td>\n",
       "      <td>1</td>\n",
       "      <td>0</td>\n",
       "      <td>0</td>\n",
       "      <td>1</td>\n",
       "      <td>0</td>\n",
       "      <td>1</td>\n",
       "      <td>0</td>\n",
       "      <td>0</td>\n",
       "      <td>1</td>\n",
       "      <td>0</td>\n",
       "    </tr>\n",
       "    <tr>\n",
       "      <th>2</th>\n",
       "      <td>-0.374210</td>\n",
       "      <td>0.089778</td>\n",
       "      <td>0.073821</td>\n",
       "      <td>0.283490</td>\n",
       "      <td>-2.390457</td>\n",
       "      <td>0</td>\n",
       "      <td>1</td>\n",
       "      <td>0</td>\n",
       "      <td>1</td>\n",
       "      <td>0</td>\n",
       "      <td>0</td>\n",
       "      <td>1</td>\n",
       "      <td>0</td>\n",
       "      <td>1</td>\n",
       "      <td>0</td>\n",
       "      <td>1</td>\n",
       "      <td>0</td>\n",
       "      <td>1</td>\n",
       "      <td>0</td>\n",
       "      <td>0</td>\n",
       "    </tr>\n",
       "    <tr>\n",
       "      <th>3</th>\n",
       "      <td>-0.510740</td>\n",
       "      <td>-0.008033</td>\n",
       "      <td>-0.380766</td>\n",
       "      <td>-2.467514</td>\n",
       "      <td>-2.390457</td>\n",
       "      <td>0</td>\n",
       "      <td>1</td>\n",
       "      <td>0</td>\n",
       "      <td>1</td>\n",
       "      <td>0</td>\n",
       "      <td>1</td>\n",
       "      <td>0</td>\n",
       "      <td>0</td>\n",
       "      <td>0</td>\n",
       "      <td>1</td>\n",
       "      <td>1</td>\n",
       "      <td>0</td>\n",
       "      <td>1</td>\n",
       "      <td>0</td>\n",
       "      <td>0</td>\n",
       "    </tr>\n",
       "    <tr>\n",
       "      <th>4</th>\n",
       "      <td>-0.517299</td>\n",
       "      <td>0.328715</td>\n",
       "      <td>0.073821</td>\n",
       "      <td>0.283490</td>\n",
       "      <td>0.418330</td>\n",
       "      <td>0</td>\n",
       "      <td>1</td>\n",
       "      <td>0</td>\n",
       "      <td>1</td>\n",
       "      <td>1</td>\n",
       "      <td>0</td>\n",
       "      <td>0</td>\n",
       "      <td>0</td>\n",
       "      <td>1</td>\n",
       "      <td>0</td>\n",
       "      <td>1</td>\n",
       "      <td>0</td>\n",
       "      <td>0</td>\n",
       "      <td>1</td>\n",
       "      <td>0</td>\n",
       "    </tr>\n",
       "  </tbody>\n",
       "</table>\n",
       "</div>"
      ],
      "text/plain": [
       "   ApplicantIncome  CoapplicantIncome  LoanAmount  Loan_Amount_Term  \\\n",
       "0        -0.391301          -0.706680   -1.154794          0.283490   \n",
       "1        -0.379178          -0.706680   -0.589631          0.283490   \n",
       "2        -0.374210           0.089778    0.073821          0.283490   \n",
       "3        -0.510740          -0.008033   -0.380766         -2.467514   \n",
       "4        -0.517299           0.328715    0.073821          0.283490   \n",
       "\n",
       "   Credit_History  Gender_Female  Gender_Male  Married_No  Married_Yes  \\\n",
       "0        0.418330              0            1           1            0   \n",
       "1        0.418330              0            1           0            1   \n",
       "2       -2.390457              0            1           0            1   \n",
       "3       -2.390457              0            1           0            1   \n",
       "4        0.418330              0            1           0            1   \n",
       "\n",
       "   Dependents_0  Dependents_1  Dependents_2  Dependents_3+  \\\n",
       "0             1             0             0              0   \n",
       "1             0             1             0              0   \n",
       "2             0             0             1              0   \n",
       "3             0             1             0              0   \n",
       "4             1             0             0              0   \n",
       "\n",
       "   Education_Graduate  Education_Not Graduate  Self_Employed_No  \\\n",
       "0                   1                       0                 1   \n",
       "1                   1                       0                 1   \n",
       "2                   1                       0                 1   \n",
       "3                   0                       1                 1   \n",
       "4                   1                       0                 1   \n",
       "\n",
       "   Self_Employed_Yes  Property_Area_Rural  Property_Area_Semiurban  \\\n",
       "0                  0                    0                        0   \n",
       "1                  0                    0                        1   \n",
       "2                  0                    1                        0   \n",
       "3                  0                    1                        0   \n",
       "4                  0                    0                        1   \n",
       "\n",
       "   Property_Area_Urban  \n",
       "0                    1  \n",
       "1                    0  \n",
       "2                    0  \n",
       "3                    0  \n",
       "4                    0  "
      ]
     },
     "execution_count": 32,
     "metadata": {},
     "output_type": "execute_result"
    }
   ],
   "source": [
    "train_features = train_df.drop(['Loan_Status'], axis=1)\n",
    "test_features = test_df.drop(['Loan_Status'], axis=1)\n",
    "\n",
    "scaler = StandardScaler()\n",
    "train_features[numerical_attributes] = scaler.fit_transform(train_features[numerical_attributes])\n",
    "test_features[numerical_attributes] = scaler.transform(test_features[numerical_attributes])\n",
    "\n",
    "X_train = pd.get_dummies(train_features)\n",
    "X_test = pd.get_dummies(test_features)\n",
    "\n",
    "X_train.head()"
   ]
  },
  {
   "cell_type": "markdown",
   "metadata": {},
   "source": [
    "Now transform the data into pca components using the training data, aiming for ~95% variance explained. In this dataset, 96% was achieved with 12 components"
   ]
  },
  {
   "cell_type": "code",
   "execution_count": 33,
   "metadata": {},
   "outputs": [
    {
     "name": "stdout",
     "output_type": "stream",
     "text": [
      "[0.21650477 0.14948457 0.1442466  0.12450113 0.07308957 0.04754592\n",
      " 0.04553211 0.03982222 0.03709897 0.03569441 0.02822182 0.02508853]\n",
      "0.9668306254531089\n"
     ]
    }
   ],
   "source": [
    "pca = PCA(n_components = 12)\n",
    "pca.fit(X_train)  \n",
    "print(pca.explained_variance_ratio_) \n",
    "print(np.sum(pca.explained_variance_ratio_))"
   ]
  },
  {
   "cell_type": "code",
   "execution_count": 34,
   "metadata": {},
   "outputs": [],
   "source": [
    "x_pca_train = pca.transform(X_train)\n",
    "x_pca_test = pca.transform(X_test)"
   ]
  },
  {
   "cell_type": "code",
   "execution_count": 35,
   "metadata": {},
   "outputs": [],
   "source": [
    "#Method to easily evalute the methods based on the predicted values and whether or not this is test data\n",
    "\n",
    "def evaluate(predicted_values, test):\n",
    "    if(test== False):\n",
    "        train_auc = roc_auc_score(predicted_values, y_train)\n",
    "        train_acc = accuracy_score(predicted_values, y_train)\n",
    "        print(\"Training auc = \" + str(train_auc))\n",
    "        print(\"Training accuracy = \" + str(train_acc))\n",
    "    else:\n",
    "        test_auc = roc_auc_score(predicted_values, y_test)\n",
    "        test_acc = accuracy_score(predicted_values, y_test)\n",
    "        print(\"Test auc = \" + str(test_auc))\n",
    "        print(\"Test accuracy = \" + str(test_acc))\n"
   ]
  },
  {
   "cell_type": "markdown",
   "metadata": {},
   "source": [
    "## Train the models\n",
    "#### Start by training ten common models to see their performance to narrow down later"
   ]
  },
  {
   "cell_type": "markdown",
   "metadata": {},
   "source": [
    "#### KNN"
   ]
  },
  {
   "cell_type": "code",
   "execution_count": 36,
   "metadata": {},
   "outputs": [
    {
     "name": "stdout",
     "output_type": "stream",
     "text": [
      "Training auc = 0.7788273204018449\n",
      "Training accuracy = 0.8106382978723404\n",
      "Test auc = 0.7981601731601733\n",
      "Test accuracy = 0.8290598290598291\n"
     ]
    }
   ],
   "source": [
    "knn = KNeighborsClassifier(n_neighbors = 4)\n",
    "knn.fit(X_train, y_train)\n",
    "tra_preds = knn.predict(X_train)\n",
    "test_preds = knn.predict(X_test)\n",
    "\n",
    "evaluate(tra_preds, False)\n",
    "evaluate(test_preds, True)"
   ]
  },
  {
   "cell_type": "markdown",
   "metadata": {},
   "source": [
    "#### SVM"
   ]
  },
  {
   "cell_type": "code",
   "execution_count": 37,
   "metadata": {},
   "outputs": [
    {
     "name": "stdout",
     "output_type": "stream",
     "text": [
      "Training auc = 0.8190574288915392\n",
      "Training accuracy = 0.7936170212765957\n",
      "Test auc = 0.8279370952821461\n",
      "Test accuracy = 0.8290598290598291\n"
     ]
    }
   ],
   "source": [
    "svm = SVC()\n",
    "svm.fit(X_train, y_train)\n",
    "tra_preds = svm.predict(X_train)\n",
    "test_preds = svm.predict(X_test)\n",
    "\n",
    "evaluate(tra_preds, False)\n",
    "evaluate(test_preds, True)"
   ]
  },
  {
   "cell_type": "markdown",
   "metadata": {},
   "source": [
    "#### Logistic Regression"
   ]
  },
  {
   "cell_type": "code",
   "execution_count": 38,
   "metadata": {},
   "outputs": [
    {
     "name": "stdout",
     "output_type": "stream",
     "text": [
      "Training auc = 0.8126785714285714\n",
      "Training accuracy = 0.7914893617021277\n",
      "Test auc = 0.8439130434782608\n",
      "Test accuracy = 0.8461538461538461\n"
     ]
    }
   ],
   "source": [
    "logreg = LogisticRegression()\n",
    "logreg.fit(X_train, y_train)\n",
    "tra_preds = logreg.predict(X_train)\n",
    "test_preds = logreg.predict(X_test)\n",
    "\n",
    "evaluate(tra_preds, False)\n",
    "evaluate(test_preds, True)"
   ]
  },
  {
   "cell_type": "markdown",
   "metadata": {},
   "source": [
    "#### Decision Tree"
   ]
  },
  {
   "cell_type": "code",
   "execution_count": 39,
   "metadata": {},
   "outputs": [
    {
     "name": "stdout",
     "output_type": "stream",
     "text": [
      "Training auc = 0.9387675420004016\n",
      "Training accuracy = 0.9382978723404255\n",
      "Test auc = 0.7015404364569962\n",
      "Test accuracy = 0.7435897435897436\n"
     ]
    }
   ],
   "source": [
    "dt = DecisionTreeClassifier(max_depth = 10)\n",
    "dt.fit(X_train, y_train)\n",
    "tra_preds = dt.predict(X_train)\n",
    "test_preds = dt.predict(X_test)\n",
    "\n",
    "evaluate(tra_preds, False)\n",
    "evaluate(test_preds, True)"
   ]
  },
  {
   "cell_type": "markdown",
   "metadata": {},
   "source": [
    "#### Naive Bayes"
   ]
  },
  {
   "cell_type": "code",
   "execution_count": 40,
   "metadata": {},
   "outputs": [
    {
     "name": "stdout",
     "output_type": "stream",
     "text": [
      "Training auc = 0.7760695187165775\n",
      "Training accuracy = 0.7914893617021277\n",
      "Test auc = 0.7887867647058824\n",
      "Test accuracy = 0.8205128205128205\n"
     ]
    }
   ],
   "source": [
    "nb = GaussianNB()\n",
    "nb.fit(X_train, y_train)\n",
    "tra_preds = nb.predict(X_train)\n",
    "test_preds = nb.predict(X_test)\n",
    "\n",
    "evaluate(tra_preds, False)\n",
    "evaluate(test_preds, True)"
   ]
  },
  {
   "cell_type": "markdown",
   "metadata": {},
   "source": [
    "#### Multi Layer Perceptron"
   ]
  },
  {
   "cell_type": "code",
   "execution_count": 41,
   "metadata": {},
   "outputs": [
    {
     "name": "stdout",
     "output_type": "stream",
     "text": [
      "Training auc = 0.9643360338147235\n",
      "Training accuracy = 0.9617021276595744\n",
      "Test auc = 0.7027573529411765\n",
      "Test accuracy = 0.7521367521367521\n"
     ]
    }
   ],
   "source": [
    "mlp = MLPClassifier(max_iter = 2000)\n",
    "mlp.fit(X_train, y_train)\n",
    "tra_preds = mlp.predict(X_train)\n",
    "test_preds = mlp.predict(X_test)\n",
    "\n",
    "evaluate(tra_preds, False)\n",
    "evaluate(test_preds, True)"
   ]
  },
  {
   "cell_type": "markdown",
   "metadata": {},
   "source": [
    "#### Ridge Classification"
   ]
  },
  {
   "cell_type": "code",
   "execution_count": 42,
   "metadata": {},
   "outputs": [
    {
     "name": "stdout",
     "output_type": "stream",
     "text": [
      "Training auc = 0.8126785714285714\n",
      "Training accuracy = 0.7914893617021277\n",
      "Test auc = 0.8439130434782608\n",
      "Test accuracy = 0.8461538461538461\n"
     ]
    }
   ],
   "source": [
    "ridge = RidgeClassifier()\n",
    "ridge.fit(X_train, y_train)\n",
    "tra_preds = ridge.predict(X_train)\n",
    "test_preds = ridge.predict(X_test)\n",
    "\n",
    "evaluate(tra_preds, False)\n",
    "evaluate(test_preds, True)"
   ]
  },
  {
   "cell_type": "markdown",
   "metadata": {},
   "source": [
    "#### Linear SVM"
   ]
  },
  {
   "cell_type": "code",
   "execution_count": 43,
   "metadata": {},
   "outputs": [
    {
     "name": "stdout",
     "output_type": "stream",
     "text": [
      "Training auc = 0.8126785714285714\n",
      "Training accuracy = 0.7914893617021277\n",
      "Test auc = 0.8439130434782608\n",
      "Test accuracy = 0.8461538461538461\n"
     ]
    }
   ],
   "source": [
    "linearsvm = LinearSVC(max_iter = 10000)\n",
    "linearsvm.fit(X_train, y_train)\n",
    "tra_preds = linearsvm.predict(X_train)\n",
    "test_preds = linearsvm.predict(X_test)\n",
    "\n",
    "evaluate(tra_preds, False)\n",
    "evaluate(test_preds, True)"
   ]
  },
  {
   "cell_type": "markdown",
   "metadata": {},
   "source": [
    "#### Ada Boost Classifier"
   ]
  },
  {
   "cell_type": "code",
   "execution_count": 44,
   "metadata": {},
   "outputs": [
    {
     "name": "stdout",
     "output_type": "stream",
     "text": [
      "Training auc = 0.8419486256977329\n",
      "Training accuracy = 0.8404255319148937\n",
      "Test auc = 0.7728731942215089\n",
      "Test accuracy = 0.8034188034188035\n"
     ]
    }
   ],
   "source": [
    "ada = AdaBoostClassifier(n_estimators = 50)\n",
    "ada.fit(X_train, y_train)\n",
    "tra_preds = ada.predict(X_train)\n",
    "test_preds = ada.predict(X_test)\n",
    "\n",
    "evaluate(tra_preds, False)\n",
    "evaluate(test_preds, True)"
   ]
  },
  {
   "cell_type": "markdown",
   "metadata": {},
   "source": [
    "From the above we can see that the best performing algorithms based on the auc are the linearsvm, logistic regression, svm, knn and the naive bayes. The decision tree, despite inbuilt feature selection, did not perform as well on the untransformed data. However due to this selection the adaboost classifier is going to be taken through to add variety in the ensemble models built after this point.\n",
    "\n",
    "The Linear svm, Logistic Regression and Ridge regression all performed the same with their default values on the dataset. Due to the nature of the logistic regression being able to specify penalty which is useful for an unbalanced dataset, it will be taken through to the ensemble model\n",
    "\n",
    "Both the knn and naive bayes, as simple yet efficient models will also be taken through to the next ensemble model. There are no penalty terms to be taken into consideration with these models due to how they are built, but there is the variation of number of neighbours that can be tuned for the knn model to find the best fit.\n",
    "\n",
    "The linearsvm and svc also performed well. However due to the similarities between the linear svm results and the logistic regression the svc will be used in ensemble models to improve performance and add more variance to the model.\n",
    "\n",
    "These models will be run with the pca components on the base settings to see which of the transformed features and the naive will be more useful to the models. A normalisation will also be run on the models."
   ]
  },
  {
   "cell_type": "markdown",
   "metadata": {},
   "source": [
    "#### Testing the PCA component performance against pure dataset"
   ]
  },
  {
   "cell_type": "code",
   "execution_count": 45,
   "metadata": {
    "scrolled": false
   },
   "outputs": [
    {
     "name": "stdout",
     "output_type": "stream",
     "text": [
      "knn\n",
      "Training auc = 0.7834187963212854\n",
      "Training accuracy = 0.8148936170212766\n",
      "Test auc = 0.7757839721254355\n",
      "Test accuracy = 0.811965811965812\n",
      "Logistic Regression\n",
      "Training auc = 0.8126785714285714\n",
      "Training accuracy = 0.7914893617021277\n",
      "Test auc = 0.8439130434782608\n",
      "Test accuracy = 0.8461538461538461\n",
      " ada boost\n",
      "Training auc = 0.8728535353535354\n",
      "Training accuracy = 0.8680851063829788\n",
      "Test auc = 0.7527472527472527\n",
      "Test accuracy = 0.7863247863247863\n"
     ]
    }
   ],
   "source": [
    "#PCA component transforms \n",
    "print(\"knn\")\n",
    "knn.fit(x_pca_train, y_train)\n",
    "tra_preds = knn.predict(x_pca_train)\n",
    "test_preds = knn.predict(x_pca_test)\n",
    "\n",
    "evaluate(tra_preds, False)\n",
    "evaluate(test_preds, True)\n",
    "\n",
    "print(\"Logistic Regression\")\n",
    "lr = LogisticRegression()\n",
    "lr.fit(x_pca_train, y_train)\n",
    "tra_preds = lr.predict(x_pca_train)\n",
    "test_preds = lr.predict(x_pca_test)\n",
    "\n",
    "evaluate(tra_preds, False)\n",
    "evaluate(test_preds, True)\n",
    "\n",
    "print(\" ada boost\")\n",
    "ada.fit(x_pca_train, y_train)\n",
    "tra_preds = ada.predict(x_pca_train)\n",
    "test_preds = ada.predict(x_pca_test)\n",
    "\n",
    "evaluate(tra_preds, False)\n",
    "evaluate(test_preds, True)\n"
   ]
  },
  {
   "cell_type": "markdown",
   "metadata": {},
   "source": [
    "Due to an increase in both accuracy and auc the PCA components have been chosen to run the dataset "
   ]
  },
  {
   "cell_type": "markdown",
   "metadata": {},
   "source": [
    "### Model Tuning and Ensembling"
   ]
  },
  {
   "cell_type": "markdown",
   "metadata": {},
   "source": [
    "#### KNN Tuning"
   ]
  },
  {
   "cell_type": "code",
   "execution_count": 46,
   "metadata": {},
   "outputs": [
    {
     "name": "stdout",
     "output_type": "stream",
     "text": [
      "Training auc = 1.0\n",
      "Training accuracy = 1.0\n",
      "Test auc = 0.8098118279569892\n",
      "Test accuracy = 0.8205128205128205\n"
     ]
    }
   ],
   "source": [
    "knn_params = {'knn__n_neighbors' : np.arange(2,11), 'knn__weights':('uniform', 'distance')}\n",
    "knn_pipeline = Pipeline(steps = [('knn', KNeighborsClassifier())])\n",
    "knn_GSCV = GridSearchCV(knn_pipeline, param_grid = knn_params, cv=5, scoring='roc_auc')\n",
    "knn_GSCV.fit(x_pca_train, y_train)\n",
    "\n",
    "tra_preds = knn_GSCV.predict(x_pca_train)\n",
    "test_preds = knn_GSCV.predict(x_pca_test)\n",
    "\n",
    "evaluate(tra_preds, False)\n",
    "evaluate(test_preds, True)"
   ]
  },
  {
   "cell_type": "markdown",
   "metadata": {},
   "source": [
    "#### Logistic Regression Tuning"
   ]
  },
  {
   "cell_type": "code",
   "execution_count": 47,
   "metadata": {},
   "outputs": [
    {
     "name": "stdout",
     "output_type": "stream",
     "text": [
      "Training auc = 0.7727299536996078\n",
      "Training accuracy = 0.7851063829787234\n",
      "Test auc = 0.7887867647058824\n",
      "Test accuracy = 0.8205128205128205\n"
     ]
    }
   ],
   "source": [
    "lr_params = {'lr__penalty' : ('l1', 'l2'), 'lr__C' : np.arange(0.1, 5, 0.1) }\n",
    "\n",
    "lr_pipeline = Pipeline(steps= [('lr', LogisticRegression(class_weight='balanced'))])\n",
    "\n",
    "lr_GSCV = GridSearchCV(lr_pipeline, param_grid = lr_params, cv=5, scoring='roc_auc')\n",
    "lr_GSCV.fit(x_pca_train, y_train)\n",
    "\n",
    "tra_preds = lr_GSCV.predict(x_pca_train)\n",
    "test_preds = lr_GSCV.predict(x_pca_test)\n",
    "\n",
    "evaluate(tra_preds, False)\n",
    "evaluate(test_preds, True)"
   ]
  },
  {
   "cell_type": "markdown",
   "metadata": {},
   "source": [
    "#### Ada boost tuning"
   ]
  },
  {
   "cell_type": "code",
   "execution_count": 48,
   "metadata": {},
   "outputs": [
    {
     "name": "stdout",
     "output_type": "stream",
     "text": [
      "Training auc = 0.8562316323804435\n",
      "Training accuracy = 0.8212765957446808\n",
      "Test auc = 0.8111111111111111\n",
      "Test accuracy = 0.8290598290598291\n"
     ]
    }
   ],
   "source": [
    "ada_params = {'ada__learning_rate' : np.arange(0.1, 3, 0.1), 'ada__n_estimators' : np.arange(80,120, 10) }\n",
    "ada_pipeline = Pipeline(steps = [('ada', AdaBoostClassifier())])\n",
    "ada_GSCV = GridSearchCV(ada_pipeline, param_grid = ada_params, cv=5, scoring='roc_auc')\n",
    "ada_GSCV.fit(x_pca_train, y_train)\n",
    "\n",
    "tra_preds = ada_GSCV.predict(x_pca_train)\n",
    "test_preds = ada_GSCV.predict(x_pca_test)\n",
    "\n",
    "evaluate(tra_preds, False)\n",
    "evaluate(test_preds, True)"
   ]
  },
  {
   "cell_type": "markdown",
   "metadata": {},
   "source": [
    "#### SVM Tuning"
   ]
  },
  {
   "cell_type": "code",
   "execution_count": 49,
   "metadata": {
    "scrolled": true
   },
   "outputs": [
    {
     "name": "stdout",
     "output_type": "stream",
     "text": [
      "Training auc = 0.7711796675191815\n",
      "Training accuracy = 0.7914893617021277\n",
      "Test auc = 0.8102941176470588\n",
      "Test accuracy = 0.8376068376068376\n"
     ]
    }
   ],
   "source": [
    "svc_params = {'svc__C' : np.arange(0.25, 10, 0.25), 'svc__max_iter': np.arange(-1, 100, 25), 'svc__gamma': ('auto', 'scale')}\n",
    "svc_pipeline = Pipeline(steps = [('svc', SVC(probability=True, class_weight='balanced'))])\n",
    "svc_GSCV = GridSearchCV(svc_pipeline, param_grid = svc_params, cv=5, scoring='roc_auc')\n",
    "svc_GSCV.fit(x_pca_train, y_train)\n",
    "\n",
    "tra_preds = svc_GSCV.predict(x_pca_train)\n",
    "test_preds = svc_GSCV.predict(x_pca_test)\n",
    "\n",
    "evaluate(tra_preds, False)\n",
    "evaluate(test_preds, True)"
   ]
  },
  {
   "cell_type": "markdown",
   "metadata": {},
   "source": [
    "### Final Ensemble Model\n",
    "#### Voting classifier built from the previous four trained models "
   ]
  },
  {
   "cell_type": "code",
   "execution_count": 50,
   "metadata": {},
   "outputs": [
    {
     "name": "stdout",
     "output_type": "stream",
     "text": [
      "Training auc = 0.9670833333333333\n",
      "Training accuracy = 0.9744680851063829\n",
      "\n",
      "Test auc = 0.8360215053763442\n",
      "Test accuracy = 0.8376068376068376\n",
      "\n",
      "              precision    recall  f1-score   support\n",
      "\n",
      "           0       0.97      0.95      0.96       150\n",
      "           1       0.98      0.99      0.98       320\n",
      "\n",
      "    accuracy                           0.97       470\n",
      "   macro avg       0.97      0.97      0.97       470\n",
      "weighted avg       0.97      0.97      0.97       470\n",
      "\n",
      "              precision    recall  f1-score   support\n",
      "\n",
      "           0       0.57      0.83      0.68        24\n",
      "           1       0.95      0.84      0.89        93\n",
      "\n",
      "    accuracy                           0.84       117\n",
      "   macro avg       0.76      0.84      0.78       117\n",
      "weighted avg       0.87      0.84      0.85       117\n",
      "\n"
     ]
    }
   ],
   "source": [
    "vc = VotingClassifier(estimators=[('lr', lr_GSCV), ('knn', knn_GSCV), ('svc',svc_GSCV), ('ada', ada_GSCV)], voting='soft')\n",
    "vc.fit(x_pca_train, y_train)\n",
    "\n",
    "train_preds = vc.predict(x_pca_train)\n",
    "test_preds = vc.predict(x_pca_test)\n",
    "\n",
    "evaluate(train_preds, False)\n",
    "print(\"\")\n",
    "evaluate(test_preds, True)\n",
    "\n",
    "print(\"\")\n",
    "print(classification_report(train_preds, y_train))\n",
    "print(classification_report(test_preds, y_test))"
   ]
  },
  {
   "cell_type": "markdown",
   "metadata": {},
   "source": [
    "## Solution and Findings"
   ]
  },
  {
   "cell_type": "markdown",
   "metadata": {},
   "source": [
    "The solution that I chose for the classification of this dataset was to use an ensemble model which trained from a logistic regression model, an ada boost model, a support vector classifier and a k-nearest neighbour model. \n",
    "\n",
    "After initial data visualisation and expoloration i discovered that this dataset contained null values and had an imbalance between the two classes. The missing/null data I explored further, seeing that there was a mostly balanced split between the classes for each feature's missing data, and that the overall missing data was not a large amount but it was above the 5% drop rate. Because of this, I chose to drop some data if it was below a small percentage and to interpolate the rest. Merely interpolating the data led to a decreased performance on the final models, informing the decision to drop the smaller percentages of missing data. \n",
    "\n",
    "An assumption about the dataset was that the interpolating would add more information than dropping the instances would remove. The catch to this was that there could be an added bias to the data due to interpolating the nearest values to the instance in the set e.g. all of the loanamounts interpolated could be wildly inaccurate to the ground truth of the instance\n",
    "\n",
    "The models trained on both the standardised data from the training set and the components achieved through pca. After analysing the outputs of the two options I decided to use the pca components, which explained 96.7% of the variance in the dataset, in further analysis.\n",
    "\n",
    "Each of the chosen four models was then used with a grid search cross validation. This trained the models to have parameters that would perform well on the classification metrics, which would boost the final score. Once I had these well trained models I used a voting classifier to achieve the final scores on the performance metrics\n",
    "\n",
    "The most difficult score to optimise in the metrics was the precision, which is a key component of the roc auc measure. This was noted as being caused by the class imbalance. In order to work around this, and train a well performing model, a setting in each the Logistic Regression and SVM models was changed to take this imbalance into consideration. The overall models performed much better when the class weights were set to balanced"
   ]
  },
  {
   "cell_type": "markdown",
   "metadata": {},
   "source": [
    "##### Key observations:\n",
    "- There was an imbalance between the classes which needed to be taken into account\n",
    "- The missing data needed to be handled in a way which both dropped some smaller number of instances and interpolated the others. This could impact on accuracy\n",
    "- The most difficult part of the metrics to balance was the precision, which needed the l1 solver and imbalance to be taken into account\n",
    "- There were outliers in the applicant income column which needed to be handled in order to increase the overall roc score\n",
    "- No normal distribution within the features\n",
    "- Credit History was a very useful features with clear difference in how the class labels were predicted\n",
    "- Self employed feature had the most missing data values\n"
   ]
  },
  {
   "cell_type": "markdown",
   "metadata": {},
   "source": [
    "#### Final accuracies of the model and discussion\n",
    "The final auc scores of the models for test and training are:\n",
    "\n",
    "Training: 0.96\n",
    "\n",
    "Test: 0.84\n",
    "\n",
    "The scores were lowered by the lower precision of the two models, which is caused by the imbalance in the dataset and has been taken into account as much as possible. Running the soft voting system also improves the precision score and lowers the impact of the imbalanced data, leading to a higher auc score\n",
    "\n",
    "The confusion matrix of the final model is:\n",
    "\n",
    "confusion_Matrix | 0 | 1\n",
    "--- | --- | ---\n",
    "0 | 22 | 5\n",
    "1 | 13 | 77 \n",
    "\n",
    "which shows that the auc, precision, f1 score and recall are highly relevant measures and also show the good fit of the model to the data. The metrics of classification performance show that there is not a naive assumption that the model is only predicting the larger class, which is backed up by the confusion matrix.\n",
    "\n",
    "The model built in this project is well trained, created from an ensemble and adept at predicting the values from the dataset. More data and more balanced data would improve the auc score, but from the given test and training datasets the performance metrics show the ensemble model fits the data well and performs better than any individual model created."
   ]
  }
 ],
 "metadata": {
  "kernelspec": {
   "display_name": "Python 3",
   "language": "python",
   "name": "python3"
  },
  "language_info": {
   "codemirror_mode": {
    "name": "ipython",
    "version": 3
   },
   "file_extension": ".py",
   "mimetype": "text/x-python",
   "name": "python",
   "nbconvert_exporter": "python",
   "pygments_lexer": "ipython3",
   "version": "3.7.0"
  }
 },
 "nbformat": 4,
 "nbformat_minor": 2
}
